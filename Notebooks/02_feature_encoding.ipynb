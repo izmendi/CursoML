{
 "cells": [
  {
   "cell_type": "markdown",
   "metadata": {},
   "source": [
    "# Tutorial: Machine Learning in scikit-learn\n",
    "*From the [Sebastian Raschka](https://github.com/rasbt/pattern_classification) the GitHub repository [pattern_classification](https://github.com/rasbt/pattern_classification)*"
   ]
  },
  {
   "cell_type": "markdown",
   "metadata": {},
   "source": [
    "![Machine learning](images/01_robot.png)"
   ]
  },
  {
   "cell_type": "markdown",
   "metadata": {},
   "source": [
    "<br>\n",
    "<br>"
   ]
  },
  {
   "cell_type": "markdown",
   "metadata": {},
   "source": [
    "# Encoding Categorical Features in Classification Tasks"
   ]
  },
  {
   "cell_type": "markdown",
   "metadata": {},
   "source": [
    "Features can come in various different flavors. Typically we distinguish between\n",
    "\n",
    "- continuous and\n",
    "- categorical (discrete)\n",
    "features.\n",
    "\n",
    "\n",
    "And the categorical features can be categorized further into:\n",
    "\n",
    "- ordinal and\n",
    "- nominal (= no order implied) features.\n",
    "\n"
   ]
  },
  {
   "cell_type": "markdown",
   "metadata": {},
   "source": [
    "Now, most implementations of machine learning algorithms require numerical data as input, and we have to prepare our data accordingly. This notebook contains some useful tips for how to encode categorical features using Python pandas and scikit-learn."
   ]
  },
  {
   "cell_type": "markdown",
   "metadata": {},
   "source": [
    "<br>\n",
    "<br>"
   ]
  },
  {
   "cell_type": "markdown",
   "metadata": {},
   "source": [
    "### Sections"
   ]
  },
  {
   "cell_type": "markdown",
   "metadata": {},
   "source": [
    "- [Example Data](#Example-Data)\n",
    "- [Class Labels](#Class-Labels)\n",
    "- [Ordinal Features](#Ordinal-Features)\n",
    "- [Nominal Features](#Nominal-Features)\n",
    "- [Inverse Mapping](#Inverse-Mapping)\n",
    "- [Using scikit-learn and pandas features](#Using-scikit-learn-and-pandas-features)\n",
    "    - [scikit LabelEncoder](#scikit-LabelEncoder)\n",
    "    - [scikit DictVectorizer](#scikit-DictVectorizer)\n",
    "    - [scikit OneHotEncoder](#scikit-OneHotEncoder)\n",
    "    - [pandas get_dummies](#pandas-get_dummies)"
   ]
  },
  {
   "cell_type": "markdown",
   "metadata": {},
   "source": [
    "<br>\n",
    "<br>"
   ]
  },
  {
   "cell_type": "markdown",
   "metadata": {},
   "source": [
    "## Example Data"
   ]
  },
  {
   "cell_type": "markdown",
   "metadata": {},
   "source": [
    "First, let us create a simple example dataset with 3 different kinds of features:\n",
    "- color: nominal\n",
    "- size: ordinal\n",
    "- prize: continuous"
   ]
  },
  {
   "cell_type": "code",
   "execution_count": 1,
   "metadata": {
    "collapsed": false
   },
   "outputs": [
    {
     "data": {
      "text/html": [
       "<div>\n",
       "<table border=\"1\" class=\"dataframe\">\n",
       "  <thead>\n",
       "    <tr style=\"text-align: right;\">\n",
       "      <th></th>\n",
       "      <th>pclass</th>\n",
       "      <th>survived</th>\n",
       "      <th>age</th>\n",
       "      <th>embarked</th>\n",
       "      <th>sex</th>\n",
       "    </tr>\n",
       "  </thead>\n",
       "  <tbody>\n",
       "    <tr>\n",
       "      <th>0</th>\n",
       "      <td>1st</td>\n",
       "      <td>KO</td>\n",
       "      <td>29.0000</td>\n",
       "      <td>Southampton</td>\n",
       "      <td>female</td>\n",
       "    </tr>\n",
       "    <tr>\n",
       "      <th>1</th>\n",
       "      <td>1st</td>\n",
       "      <td>No KO</td>\n",
       "      <td>2.0000</td>\n",
       "      <td>Southampton</td>\n",
       "      <td>female</td>\n",
       "    </tr>\n",
       "    <tr>\n",
       "      <th>2</th>\n",
       "      <td>1st</td>\n",
       "      <td>No KO</td>\n",
       "      <td>30.0000</td>\n",
       "      <td>Southampton</td>\n",
       "      <td>male</td>\n",
       "    </tr>\n",
       "    <tr>\n",
       "      <th>3</th>\n",
       "      <td>1st</td>\n",
       "      <td>No KO</td>\n",
       "      <td>25.0000</td>\n",
       "      <td>Southampton</td>\n",
       "      <td>female</td>\n",
       "    </tr>\n",
       "    <tr>\n",
       "      <th>4</th>\n",
       "      <td>1st</td>\n",
       "      <td>KO</td>\n",
       "      <td>0.9167</td>\n",
       "      <td>Southampton</td>\n",
       "      <td>male</td>\n",
       "    </tr>\n",
       "  </tbody>\n",
       "</table>\n",
       "</div>"
      ],
      "text/plain": [
       "  pclass survived      age     embarked     sex\n",
       "0    1st       KO  29.0000  Southampton  female\n",
       "1    1st    No KO   2.0000  Southampton  female\n",
       "2    1st    No KO  30.0000  Southampton    male\n",
       "3    1st    No KO  25.0000  Southampton  female\n",
       "4    1st       KO   0.9167  Southampton    male"
      ]
     },
     "execution_count": 1,
     "metadata": {},
     "output_type": "execute_result"
    }
   ],
   "source": [
    "import pandas as pd\n",
    "import numpy as np\n",
    "\n",
    "df = pd.read_csv('./data/titanic_curso.csv', sep=',')\n",
    "df.head()"
   ]
  },
  {
   "cell_type": "markdown",
   "metadata": {},
   "source": [
    "<br>\n",
    "<br>"
   ]
  },
  {
   "cell_type": "markdown",
   "metadata": {},
   "source": [
    "## Class Labels"
   ]
  },
  {
   "cell_type": "markdown",
   "metadata": {},
   "source": [
    "\"Typical\" machine learning algorithms handle class labels with \"no order implied\" - unless we use a ranking classifier (e.g., SVM-rank). Thus, it is save to use a simple set-item-enumeration to convert the class labels from a string representation into integers."
   ]
  },
  {
   "cell_type": "code",
   "execution_count": 2,
   "metadata": {
    "collapsed": false
   },
   "outputs": [
    {
     "data": {
      "text/html": [
       "<div>\n",
       "<table border=\"1\" class=\"dataframe\">\n",
       "  <thead>\n",
       "    <tr style=\"text-align: right;\">\n",
       "      <th></th>\n",
       "      <th>pclass</th>\n",
       "      <th>survived</th>\n",
       "      <th>age</th>\n",
       "      <th>embarked</th>\n",
       "      <th>sex</th>\n",
       "    </tr>\n",
       "  </thead>\n",
       "  <tbody>\n",
       "    <tr>\n",
       "      <th>0</th>\n",
       "      <td>1st</td>\n",
       "      <td>1</td>\n",
       "      <td>29.0000</td>\n",
       "      <td>Southampton</td>\n",
       "      <td>female</td>\n",
       "    </tr>\n",
       "    <tr>\n",
       "      <th>1</th>\n",
       "      <td>1st</td>\n",
       "      <td>0</td>\n",
       "      <td>2.0000</td>\n",
       "      <td>Southampton</td>\n",
       "      <td>female</td>\n",
       "    </tr>\n",
       "    <tr>\n",
       "      <th>2</th>\n",
       "      <td>1st</td>\n",
       "      <td>0</td>\n",
       "      <td>30.0000</td>\n",
       "      <td>Southampton</td>\n",
       "      <td>male</td>\n",
       "    </tr>\n",
       "    <tr>\n",
       "      <th>3</th>\n",
       "      <td>1st</td>\n",
       "      <td>0</td>\n",
       "      <td>25.0000</td>\n",
       "      <td>Southampton</td>\n",
       "      <td>female</td>\n",
       "    </tr>\n",
       "    <tr>\n",
       "      <th>4</th>\n",
       "      <td>1st</td>\n",
       "      <td>1</td>\n",
       "      <td>0.9167</td>\n",
       "      <td>Southampton</td>\n",
       "      <td>male</td>\n",
       "    </tr>\n",
       "  </tbody>\n",
       "</table>\n",
       "</div>"
      ],
      "text/plain": [
       "  pclass  survived      age     embarked     sex\n",
       "0    1st         1  29.0000  Southampton  female\n",
       "1    1st         0   2.0000  Southampton  female\n",
       "2    1st         0  30.0000  Southampton    male\n",
       "3    1st         0  25.0000  Southampton  female\n",
       "4    1st         1   0.9167  Southampton    male"
      ]
     },
     "execution_count": 2,
     "metadata": {},
     "output_type": "execute_result"
    }
   ],
   "source": [
    "label_mapping = {label:idx for idx,label in enumerate(set(df['survived']))}\n",
    "\n",
    "df['survived'] = df['survived'].map(label_mapping)\n",
    "df.head()"
   ]
  },
  {
   "cell_type": "markdown",
   "metadata": {},
   "source": [
    "<br>\n",
    "<br>"
   ]
  },
  {
   "cell_type": "markdown",
   "metadata": {},
   "source": [
    "## Ordinal Features"
   ]
  },
  {
   "cell_type": "markdown",
   "metadata": {},
   "source": [
    "Ordinal features need special attention: We have to make sure that the correct values are associated with the corresponding strings. Thus, we need to set-up an explicit mapping dictionary:"
   ]
  },
  {
   "cell_type": "code",
   "execution_count": 3,
   "metadata": {
    "collapsed": false
   },
   "outputs": [
    {
     "data": {
      "text/plain": [
       "array(['1st', '2nd', '3rd'], dtype=object)"
      ]
     },
     "execution_count": 3,
     "metadata": {},
     "output_type": "execute_result"
    }
   ],
   "source": [
    "df['pclass'].unique()"
   ]
  },
  {
   "cell_type": "code",
   "execution_count": 4,
   "metadata": {
    "collapsed": false
   },
   "outputs": [
    {
     "name": "stdout",
     "output_type": "stream",
     "text": [
      "[2 1 0]\n"
     ]
    },
    {
     "data": {
      "text/html": [
       "<div>\n",
       "<table border=\"1\" class=\"dataframe\">\n",
       "  <thead>\n",
       "    <tr style=\"text-align: right;\">\n",
       "      <th></th>\n",
       "      <th>pclass</th>\n",
       "      <th>survived</th>\n",
       "      <th>age</th>\n",
       "      <th>embarked</th>\n",
       "      <th>sex</th>\n",
       "    </tr>\n",
       "  </thead>\n",
       "  <tbody>\n",
       "    <tr>\n",
       "      <th>0</th>\n",
       "      <td>2</td>\n",
       "      <td>1</td>\n",
       "      <td>29.0000</td>\n",
       "      <td>Southampton</td>\n",
       "      <td>female</td>\n",
       "    </tr>\n",
       "    <tr>\n",
       "      <th>1</th>\n",
       "      <td>2</td>\n",
       "      <td>0</td>\n",
       "      <td>2.0000</td>\n",
       "      <td>Southampton</td>\n",
       "      <td>female</td>\n",
       "    </tr>\n",
       "    <tr>\n",
       "      <th>2</th>\n",
       "      <td>2</td>\n",
       "      <td>0</td>\n",
       "      <td>30.0000</td>\n",
       "      <td>Southampton</td>\n",
       "      <td>male</td>\n",
       "    </tr>\n",
       "    <tr>\n",
       "      <th>3</th>\n",
       "      <td>2</td>\n",
       "      <td>0</td>\n",
       "      <td>25.0000</td>\n",
       "      <td>Southampton</td>\n",
       "      <td>female</td>\n",
       "    </tr>\n",
       "    <tr>\n",
       "      <th>4</th>\n",
       "      <td>2</td>\n",
       "      <td>1</td>\n",
       "      <td>0.9167</td>\n",
       "      <td>Southampton</td>\n",
       "      <td>male</td>\n",
       "    </tr>\n",
       "  </tbody>\n",
       "</table>\n",
       "</div>"
      ],
      "text/plain": [
       "   pclass  survived      age     embarked     sex\n",
       "0       2         1  29.0000  Southampton  female\n",
       "1       2         0   2.0000  Southampton  female\n",
       "2       2         0  30.0000  Southampton    male\n",
       "3       2         0  25.0000  Southampton  female\n",
       "4       2         1   0.9167  Southampton    male"
      ]
     },
     "execution_count": 4,
     "metadata": {},
     "output_type": "execute_result"
    }
   ],
   "source": [
    "pclass_mapping = {\n",
    "           '1st': 2,\n",
    "           '2nd': 1,\n",
    "           '3rd': 0}\n",
    "\n",
    "df['pclass'] = df['pclass'].map(pclass_mapping)\n",
    "print df['pclass'].unique()\n",
    "df.head()"
   ]
  },
  {
   "cell_type": "markdown",
   "metadata": {},
   "source": [
    "This also can be done with a sklearn preprocessing method call *LabelEncoder*"
   ]
  },
  {
   "cell_type": "markdown",
   "metadata": {},
   "source": [
    "<br>\n",
    "<br>"
   ]
  },
  {
   "cell_type": "markdown",
   "metadata": {},
   "source": [
    "## Nominal Features"
   ]
  },
  {
   "cell_type": "markdown",
   "metadata": {},
   "source": [
    "Unfortunately, we can't simply apply the same mapping scheme to the `sex` and `embarked` columns that we used for the `pclass`-mapping above. However, we can use another simply trick and convert the \"sex\" and \"ambarked\" into binary features: Each possible value becomes a feature column itself (with values 1 or 0)."
   ]
  },
  {
   "cell_type": "code",
   "execution_count": 5,
   "metadata": {
    "collapsed": false
   },
   "outputs": [
    {
     "data": {
      "text/plain": [
       "array(['Southampton', 'Cherbourg', 'Queenstown'], dtype=object)"
      ]
     },
     "execution_count": 5,
     "metadata": {},
     "output_type": "execute_result"
    }
   ],
   "source": [
    "df['embarked'].unique()"
   ]
  },
  {
   "cell_type": "code",
   "execution_count": 6,
   "metadata": {
    "collapsed": false
   },
   "outputs": [
    {
     "data": {
      "text/html": [
       "<div>\n",
       "<table border=\"1\" class=\"dataframe\">\n",
       "  <thead>\n",
       "    <tr style=\"text-align: right;\">\n",
       "      <th></th>\n",
       "      <th>pclass</th>\n",
       "      <th>survived</th>\n",
       "      <th>age</th>\n",
       "      <th>embarked</th>\n",
       "      <th>sex</th>\n",
       "    </tr>\n",
       "  </thead>\n",
       "  <tbody>\n",
       "    <tr>\n",
       "      <th>0</th>\n",
       "      <td>2</td>\n",
       "      <td>1</td>\n",
       "      <td>29.0000</td>\n",
       "      <td>(0, 0, 1)</td>\n",
       "      <td>female</td>\n",
       "    </tr>\n",
       "    <tr>\n",
       "      <th>1</th>\n",
       "      <td>2</td>\n",
       "      <td>0</td>\n",
       "      <td>2.0000</td>\n",
       "      <td>(0, 0, 1)</td>\n",
       "      <td>female</td>\n",
       "    </tr>\n",
       "    <tr>\n",
       "      <th>2</th>\n",
       "      <td>2</td>\n",
       "      <td>0</td>\n",
       "      <td>30.0000</td>\n",
       "      <td>(0, 0, 1)</td>\n",
       "      <td>male</td>\n",
       "    </tr>\n",
       "    <tr>\n",
       "      <th>3</th>\n",
       "      <td>2</td>\n",
       "      <td>0</td>\n",
       "      <td>25.0000</td>\n",
       "      <td>(0, 0, 1)</td>\n",
       "      <td>female</td>\n",
       "    </tr>\n",
       "    <tr>\n",
       "      <th>4</th>\n",
       "      <td>2</td>\n",
       "      <td>1</td>\n",
       "      <td>0.9167</td>\n",
       "      <td>(0, 0, 1)</td>\n",
       "      <td>male</td>\n",
       "    </tr>\n",
       "  </tbody>\n",
       "</table>\n",
       "</div>"
      ],
      "text/plain": [
       "   pclass  survived      age   embarked     sex\n",
       "0       2         1  29.0000  (0, 0, 1)  female\n",
       "1       2         0   2.0000  (0, 0, 1)  female\n",
       "2       2         0  30.0000  (0, 0, 1)    male\n",
       "3       2         0  25.0000  (0, 0, 1)  female\n",
       "4       2         1   0.9167  (0, 0, 1)    male"
      ]
     },
     "execution_count": 6,
     "metadata": {},
     "output_type": "execute_result"
    }
   ],
   "source": [
    "embarked_mapping = {\n",
    "           'Southampton': (0,0,1),\n",
    "           'Cherbourg': (0,1,0),\n",
    "           'Queenstown': (1,0,0)}\n",
    "\n",
    "df['embarked'] = df['embarked'].map(embarked_mapping)\n",
    "df.head()"
   ]
  },
  {
   "cell_type": "code",
   "execution_count": 7,
   "metadata": {
    "collapsed": false
   },
   "outputs": [
    {
     "data": {
      "text/html": [
       "<div>\n",
       "<table border=\"1\" class=\"dataframe\">\n",
       "  <thead>\n",
       "    <tr style=\"text-align: right;\">\n",
       "      <th></th>\n",
       "      <th>pclass</th>\n",
       "      <th>survived</th>\n",
       "      <th>age</th>\n",
       "      <th>embarked</th>\n",
       "      <th>sex</th>\n",
       "    </tr>\n",
       "  </thead>\n",
       "  <tbody>\n",
       "    <tr>\n",
       "      <th>0</th>\n",
       "      <td>2</td>\n",
       "      <td>1</td>\n",
       "      <td>29.0000</td>\n",
       "      <td>(0, 0, 1)</td>\n",
       "      <td>(1, 0)</td>\n",
       "    </tr>\n",
       "    <tr>\n",
       "      <th>1</th>\n",
       "      <td>2</td>\n",
       "      <td>0</td>\n",
       "      <td>2.0000</td>\n",
       "      <td>(0, 0, 1)</td>\n",
       "      <td>(1, 0)</td>\n",
       "    </tr>\n",
       "    <tr>\n",
       "      <th>2</th>\n",
       "      <td>2</td>\n",
       "      <td>0</td>\n",
       "      <td>30.0000</td>\n",
       "      <td>(0, 0, 1)</td>\n",
       "      <td>(0, 1)</td>\n",
       "    </tr>\n",
       "    <tr>\n",
       "      <th>3</th>\n",
       "      <td>2</td>\n",
       "      <td>0</td>\n",
       "      <td>25.0000</td>\n",
       "      <td>(0, 0, 1)</td>\n",
       "      <td>(1, 0)</td>\n",
       "    </tr>\n",
       "    <tr>\n",
       "      <th>4</th>\n",
       "      <td>2</td>\n",
       "      <td>1</td>\n",
       "      <td>0.9167</td>\n",
       "      <td>(0, 0, 1)</td>\n",
       "      <td>(0, 1)</td>\n",
       "    </tr>\n",
       "  </tbody>\n",
       "</table>\n",
       "</div>"
      ],
      "text/plain": [
       "   pclass  survived      age   embarked     sex\n",
       "0       2         1  29.0000  (0, 0, 1)  (1, 0)\n",
       "1       2         0   2.0000  (0, 0, 1)  (1, 0)\n",
       "2       2         0  30.0000  (0, 0, 1)  (0, 1)\n",
       "3       2         0  25.0000  (0, 0, 1)  (1, 0)\n",
       "4       2         1   0.9167  (0, 0, 1)  (0, 1)"
      ]
     },
     "execution_count": 7,
     "metadata": {},
     "output_type": "execute_result"
    }
   ],
   "source": [
    "sex_mapping = {\n",
    "           'male': (0,1),\n",
    "           'female': (1,0)}\n",
    "\n",
    "df['sex'] = df['sex'].map(sex_mapping)\n",
    "df.head()"
   ]
  },
  {
   "cell_type": "markdown",
   "metadata": {},
   "source": [
    "This also can be done with a sklearn preprocessing method call *OneHotEncoder*"
   ]
  },
  {
   "cell_type": "markdown",
   "metadata": {},
   "source": [
    "<br>\n",
    "<br>"
   ]
  },
  {
   "cell_type": "markdown",
   "metadata": {},
   "source": [
    "## Inverse Mapping"
   ]
  },
  {
   "cell_type": "markdown",
   "metadata": {},
   "source": [
    "If we want to convert the features back into its original representation, we can simply do so my using inverted mapping dictionaries:"
   ]
  },
  {
   "cell_type": "code",
   "execution_count": 8,
   "metadata": {
    "collapsed": false
   },
   "outputs": [
    {
     "data": {
      "text/html": [
       "<div>\n",
       "<table border=\"1\" class=\"dataframe\">\n",
       "  <thead>\n",
       "    <tr style=\"text-align: right;\">\n",
       "      <th></th>\n",
       "      <th>pclass</th>\n",
       "      <th>survived</th>\n",
       "      <th>age</th>\n",
       "      <th>embarked</th>\n",
       "      <th>sex</th>\n",
       "    </tr>\n",
       "  </thead>\n",
       "  <tbody>\n",
       "    <tr>\n",
       "      <th>0</th>\n",
       "      <td>1st</td>\n",
       "      <td>KO</td>\n",
       "      <td>29.0000</td>\n",
       "      <td>Southampton</td>\n",
       "      <td>female</td>\n",
       "    </tr>\n",
       "    <tr>\n",
       "      <th>1</th>\n",
       "      <td>1st</td>\n",
       "      <td>No KO</td>\n",
       "      <td>2.0000</td>\n",
       "      <td>Southampton</td>\n",
       "      <td>female</td>\n",
       "    </tr>\n",
       "    <tr>\n",
       "      <th>2</th>\n",
       "      <td>1st</td>\n",
       "      <td>No KO</td>\n",
       "      <td>30.0000</td>\n",
       "      <td>Southampton</td>\n",
       "      <td>male</td>\n",
       "    </tr>\n",
       "    <tr>\n",
       "      <th>3</th>\n",
       "      <td>1st</td>\n",
       "      <td>No KO</td>\n",
       "      <td>25.0000</td>\n",
       "      <td>Southampton</td>\n",
       "      <td>female</td>\n",
       "    </tr>\n",
       "    <tr>\n",
       "      <th>4</th>\n",
       "      <td>1st</td>\n",
       "      <td>KO</td>\n",
       "      <td>0.9167</td>\n",
       "      <td>Southampton</td>\n",
       "      <td>male</td>\n",
       "    </tr>\n",
       "  </tbody>\n",
       "</table>\n",
       "</div>"
      ],
      "text/plain": [
       "  pclass survived      age     embarked     sex\n",
       "0    1st       KO  29.0000  Southampton  female\n",
       "1    1st    No KO   2.0000  Southampton  female\n",
       "2    1st    No KO  30.0000  Southampton    male\n",
       "3    1st    No KO  25.0000  Southampton  female\n",
       "4    1st       KO   0.9167  Southampton    male"
      ]
     },
     "execution_count": 8,
     "metadata": {},
     "output_type": "execute_result"
    }
   ],
   "source": [
    "inv_label_mapping = {v: k for k, v in label_mapping.items()}\n",
    "inv_pclass_mapping = {v: k for k, v in pclass_mapping.items()}\n",
    "inv_embarked_mapping = {v: k for k, v in embarked_mapping.items()}\n",
    "inv_sex_mapping = {v: k for k, v in sex_mapping.items()}\n",
    "\n",
    "df['survived'] = df['survived'].map(inv_label_mapping)\n",
    "df['pclass'] = df['pclass'].map(inv_pclass_mapping)\n",
    "df['embarked'] = df['embarked'].map(inv_embarked_mapping)\n",
    "df['sex'] = df['sex'].map(inv_sex_mapping)\n",
    "df.head()"
   ]
  },
  {
   "cell_type": "markdown",
   "metadata": {},
   "source": [
    "<br>\n",
    "<br>"
   ]
  },
  {
   "cell_type": "markdown",
   "metadata": {},
   "source": [
    "## Using scikit-learn and pandas features"
   ]
  },
  {
   "cell_type": "markdown",
   "metadata": {},
   "source": [
    "The scikit-learn maching library comes with many useful preprocessing functions that we can use for our convenience."
   ]
  },
  {
   "cell_type": "markdown",
   "metadata": {},
   "source": [
    "<br>\n",
    "<br>"
   ]
  },
  {
   "cell_type": "markdown",
   "metadata": {},
   "source": [
    "### scikit LabelEncoder"
   ]
  },
  {
   "cell_type": "code",
   "execution_count": 9,
   "metadata": {
    "collapsed": false
   },
   "outputs": [
    {
     "data": {
      "text/html": [
       "<div>\n",
       "<table border=\"1\" class=\"dataframe\">\n",
       "  <thead>\n",
       "    <tr style=\"text-align: right;\">\n",
       "      <th></th>\n",
       "      <th>pclass</th>\n",
       "      <th>survived</th>\n",
       "      <th>age</th>\n",
       "      <th>embarked</th>\n",
       "      <th>sex</th>\n",
       "    </tr>\n",
       "  </thead>\n",
       "  <tbody>\n",
       "    <tr>\n",
       "      <th>0</th>\n",
       "      <td>1st</td>\n",
       "      <td>0</td>\n",
       "      <td>29.0000</td>\n",
       "      <td>Southampton</td>\n",
       "      <td>female</td>\n",
       "    </tr>\n",
       "    <tr>\n",
       "      <th>1</th>\n",
       "      <td>1st</td>\n",
       "      <td>1</td>\n",
       "      <td>2.0000</td>\n",
       "      <td>Southampton</td>\n",
       "      <td>female</td>\n",
       "    </tr>\n",
       "    <tr>\n",
       "      <th>2</th>\n",
       "      <td>1st</td>\n",
       "      <td>1</td>\n",
       "      <td>30.0000</td>\n",
       "      <td>Southampton</td>\n",
       "      <td>male</td>\n",
       "    </tr>\n",
       "    <tr>\n",
       "      <th>3</th>\n",
       "      <td>1st</td>\n",
       "      <td>1</td>\n",
       "      <td>25.0000</td>\n",
       "      <td>Southampton</td>\n",
       "      <td>female</td>\n",
       "    </tr>\n",
       "    <tr>\n",
       "      <th>4</th>\n",
       "      <td>1st</td>\n",
       "      <td>0</td>\n",
       "      <td>0.9167</td>\n",
       "      <td>Southampton</td>\n",
       "      <td>male</td>\n",
       "    </tr>\n",
       "  </tbody>\n",
       "</table>\n",
       "</div>"
      ],
      "text/plain": [
       "  pclass  survived      age     embarked     sex\n",
       "0    1st         0  29.0000  Southampton  female\n",
       "1    1st         1   2.0000  Southampton  female\n",
       "2    1st         1  30.0000  Southampton    male\n",
       "3    1st         1  25.0000  Southampton  female\n",
       "4    1st         0   0.9167  Southampton    male"
      ]
     },
     "execution_count": 9,
     "metadata": {},
     "output_type": "execute_result"
    }
   ],
   "source": [
    "from sklearn.preprocessing import LabelEncoder\n",
    "\n",
    "class_le = LabelEncoder()\n",
    "df['survived'] = class_le.fit_transform(df['survived'])\n",
    "\n",
    "df.head()"
   ]
  },
  {
   "cell_type": "markdown",
   "metadata": {},
   "source": [
    "The class labels can be converted back from integer to string via the `inverse_transform` method:"
   ]
  },
  {
   "cell_type": "code",
   "execution_count": 10,
   "metadata": {
    "collapsed": false
   },
   "outputs": [
    {
     "data": {
      "text/plain": [
       "array(['KO', 'No KO', 'No KO', 'No KO', 'KO', 'KO', 'KO', 'No KO', 'KO',\n",
       "       'No KO', 'No KO', 'KO', 'KO', 'KO', 'No KO', 'KO', 'No KO', 'No KO',\n",
       "       'KO', 'KO', 'KO', 'No KO', 'KO', 'KO', 'KO', 'No KO', 'KO', 'KO',\n",
       "       'KO', 'No KO', 'KO', 'KO', 'KO', 'No KO', 'No KO', 'No KO', 'KO',\n",
       "       'KO', 'KO', 'No KO', 'KO', 'KO', 'KO', 'KO', 'No KO', 'No KO',\n",
       "       'No KO', 'KO', 'KO', 'KO', 'KO', 'No KO', 'KO', 'No KO', 'KO',\n",
       "       'No KO', 'KO', 'KO', 'KO', 'KO', 'KO', 'KO', 'No KO', 'KO', 'No KO',\n",
       "       'No KO', 'KO', 'No KO', 'KO', 'KO', 'No KO', 'No KO', 'KO', 'KO',\n",
       "       'No KO', 'KO', 'KO', 'KO', 'No KO', 'KO', 'KO', 'KO', 'KO', 'KO',\n",
       "       'KO', 'KO', 'KO', 'No KO', 'KO', 'KO', 'KO', 'No KO', 'KO', 'KO',\n",
       "       'No KO', 'KO', 'KO', 'No KO', 'KO', 'No KO', 'KO', 'KO', 'No KO',\n",
       "       'KO', 'No KO', 'KO', 'KO', 'KO', 'KO', 'KO', 'KO', 'No KO', 'KO',\n",
       "       'No KO', 'KO', 'KO', 'KO', 'KO', 'No KO', 'KO', 'No KO', 'KO', 'KO',\n",
       "       'KO', 'KO', 'No KO', 'KO', 'KO', 'KO', 'KO', 'No KO', 'KO', 'KO',\n",
       "       'No KO', 'KO', 'KO', 'No KO', 'No KO', 'No KO', 'KO', 'KO', 'KO',\n",
       "       'No KO', 'KO', 'KO', 'KO', 'KO', 'No KO', 'No KO', 'KO', 'No KO',\n",
       "       'No KO', 'No KO', 'No KO', 'KO', 'KO', 'KO', 'No KO', 'KO', 'No KO',\n",
       "       'No KO', 'KO', 'KO', 'KO', 'No KO', 'KO', 'No KO', 'KO', 'No KO',\n",
       "       'KO', 'No KO', 'KO', 'No KO', 'No KO', 'KO', 'No KO', 'KO', 'No KO',\n",
       "       'KO', 'No KO', 'KO', 'KO', 'No KO', 'No KO', 'No KO', 'No KO', 'KO',\n",
       "       'KO', 'KO', 'No KO', 'KO', 'No KO', 'KO', 'No KO', 'No KO', 'No KO',\n",
       "       'KO', 'No KO', 'KO', 'KO', 'No KO', 'KO', 'No KO', 'KO', 'KO',\n",
       "       'No KO', 'KO', 'No KO', 'KO', 'No KO', 'KO', 'No KO', 'KO', 'No KO',\n",
       "       'No KO', 'KO', 'KO', 'KO', 'KO', 'KO', 'KO', 'KO', 'KO', 'KO', 'KO',\n",
       "       'KO', 'No KO', 'No KO', 'No KO', 'KO', 'No KO', 'KO', 'KO', 'KO',\n",
       "       'KO', 'KO', 'No KO', 'KO', 'KO', 'No KO', 'KO', 'KO', 'No KO',\n",
       "       'No KO', 'No KO', 'No KO', 'KO', 'No KO', 'KO', 'KO', 'KO', 'KO',\n",
       "       'No KO', 'KO', 'KO', 'No KO', 'KO', 'KO', 'No KO', 'No KO', 'No KO',\n",
       "       'No KO', 'KO', 'No KO', 'KO', 'No KO', 'No KO', 'No KO', 'KO', 'KO',\n",
       "       'No KO', 'KO', 'No KO', 'KO', 'No KO', 'No KO', 'KO', 'KO', 'No KO',\n",
       "       'KO', 'KO', 'KO', 'KO', 'KO', 'KO', 'KO', 'KO', 'KO', 'KO', 'KO',\n",
       "       'No KO', 'No KO', 'KO', 'No KO', 'KO', 'No KO', 'No KO', 'No KO',\n",
       "       'No KO', 'No KO', 'KO', 'KO', 'No KO', 'KO', 'No KO', 'KO', 'No KO',\n",
       "       'No KO', 'KO', 'No KO', 'No KO', 'KO', 'No KO', 'KO', 'No KO',\n",
       "       'No KO', 'No KO', 'KO', 'No KO', 'No KO', 'No KO', 'KO', 'No KO',\n",
       "       'No KO', 'KO', 'KO', 'No KO', 'KO', 'KO', 'KO', 'KO', 'KO', 'KO',\n",
       "       'No KO', 'No KO', 'No KO', 'No KO', 'KO', 'No KO', 'KO', 'KO',\n",
       "       'No KO', 'KO', 'No KO', 'No KO', 'KO', 'KO', 'KO', 'KO', 'KO',\n",
       "       'No KO', 'No KO', 'No KO', 'No KO', 'No KO', 'No KO', 'KO', 'KO',\n",
       "       'No KO', 'KO', 'No KO', 'No KO', 'KO', 'No KO', 'KO', 'KO', 'No KO',\n",
       "       'No KO', 'No KO', 'No KO', 'No KO', 'KO', 'KO', 'KO', 'No KO',\n",
       "       'No KO', 'KO', 'No KO', 'No KO', 'KO', 'KO', 'No KO', 'No KO', 'KO',\n",
       "       'KO', 'KO', 'KO', 'No KO', 'No KO', 'No KO', 'No KO', 'No KO',\n",
       "       'No KO', 'No KO', 'No KO', 'No KO', 'No KO', 'KO', 'No KO', 'No KO',\n",
       "       'No KO', 'No KO', 'No KO', 'No KO', 'No KO', 'No KO', 'No KO',\n",
       "       'No KO', 'No KO', 'KO', 'KO', 'No KO', 'No KO', 'KO', 'KO', 'No KO',\n",
       "       'No KO', 'KO', 'KO', 'KO', 'KO', 'No KO', 'KO', 'KO', 'No KO',\n",
       "       'No KO', 'No KO', 'No KO', 'KO', 'No KO', 'KO', 'No KO', 'No KO',\n",
       "       'No KO', 'KO', 'No KO', 'KO', 'No KO', 'No KO', 'No KO', 'KO',\n",
       "       'No KO', 'KO', 'No KO', 'No KO', 'No KO', 'No KO', 'KO', 'No KO',\n",
       "       'KO', 'No KO', 'No KO', 'KO', 'KO', 'No KO', 'No KO', 'No KO',\n",
       "       'No KO', 'No KO', 'KO', 'No KO', 'KO', 'KO', 'KO', 'KO', 'KO',\n",
       "       'No KO', 'No KO', 'No KO', 'No KO', 'KO', 'No KO', 'No KO', 'No KO',\n",
       "       'KO', 'KO', 'No KO', 'No KO', 'KO', 'No KO', 'No KO', 'No KO',\n",
       "       'No KO', 'No KO', 'KO', 'KO', 'KO', 'No KO', 'No KO', 'No KO',\n",
       "       'No KO', 'No KO', 'No KO', 'No KO', 'No KO', 'KO', 'KO', 'No KO',\n",
       "       'KO', 'No KO', 'No KO', 'No KO', 'KO', 'KO', 'No KO', 'KO', 'KO',\n",
       "       'No KO', 'KO', 'No KO', 'KO', 'No KO', 'No KO', 'KO', 'No KO', 'KO',\n",
       "       'No KO', 'KO', 'No KO', 'KO', 'KO', 'KO', 'No KO', 'No KO', 'KO',\n",
       "       'KO', 'No KO', 'KO', 'KO', 'KO', 'KO', 'No KO', 'KO', 'No KO',\n",
       "       'No KO', 'KO', 'KO', 'KO', 'KO', 'No KO', 'KO', 'No KO', 'No KO',\n",
       "       'KO', 'No KO', 'No KO', 'No KO', 'No KO', 'KO', 'No KO', 'KO', 'KO',\n",
       "       'No KO', 'No KO', 'No KO', 'No KO', 'KO', 'No KO', 'KO', 'No KO',\n",
       "       'No KO', 'KO', 'KO', 'KO', 'No KO', 'KO', 'KO', 'KO', 'KO', 'KO',\n",
       "       'KO', 'No KO', 'KO', 'No KO', 'No KO', 'KO', 'KO', 'KO', 'KO',\n",
       "       'No KO', 'No KO', 'KO', 'No KO', 'No KO', 'No KO', 'No KO', 'No KO',\n",
       "       'KO', 'KO', 'KO', 'KO', 'KO', 'No KO', 'No KO', 'No KO', 'No KO',\n",
       "       'No KO', 'KO', 'KO', 'No KO', 'No KO', 'No KO', 'No KO', 'No KO',\n",
       "       'No KO', 'No KO', 'No KO', 'No KO', 'No KO', 'No KO', 'KO', 'No KO',\n",
       "       'No KO', 'No KO', 'No KO', 'No KO', 'No KO', 'No KO', 'No KO',\n",
       "       'No KO', 'No KO', 'No KO', 'No KO', 'KO', 'No KO', 'No KO', 'KO',\n",
       "       'No KO', 'KO', 'KO', 'No KO', 'KO', 'No KO', 'No KO', 'No KO',\n",
       "       'No KO', 'No KO', 'No KO', 'KO', 'KO', 'KO', 'KO', 'KO', 'KO',\n",
       "       'No KO', 'No KO', 'KO', 'No KO', 'No KO', 'No KO', 'No KO', 'No KO',\n",
       "       'No KO', 'No KO', 'No KO', 'KO', 'No KO', 'No KO', 'No KO', 'No KO',\n",
       "       'No KO', 'No KO', 'No KO', 'No KO', 'No KO', 'No KO', 'No KO', 'KO',\n",
       "       'No KO', 'No KO', 'No KO', 'No KO', 'No KO', 'No KO', 'KO', 'No KO',\n",
       "       'No KO', 'No KO', 'No KO', 'No KO', 'No KO', 'No KO', 'No KO',\n",
       "       'No KO', 'No KO', 'No KO', 'No KO', 'No KO', 'No KO', 'No KO',\n",
       "       'No KO', 'No KO', 'KO', 'No KO', 'No KO', 'KO', 'No KO', 'No KO',\n",
       "       'No KO', 'No KO', 'No KO', 'No KO', 'No KO', 'No KO', 'KO', 'No KO',\n",
       "       'No KO', 'No KO', 'No KO', 'No KO', 'No KO', 'KO', 'No KO', 'No KO',\n",
       "       'No KO', 'No KO', 'No KO', 'No KO', 'KO', 'KO', 'KO', 'No KO',\n",
       "       'No KO', 'No KO', 'KO', 'No KO', 'KO', 'No KO', 'No KO', 'KO', 'KO',\n",
       "       'No KO', 'No KO', 'No KO', 'No KO', 'No KO', 'No KO', 'No KO',\n",
       "       'No KO', 'No KO', 'No KO', 'KO', 'No KO', 'KO', 'KO', 'KO', 'No KO',\n",
       "       'KO', 'KO', 'KO', 'No KO', 'No KO', 'No KO', 'KO', 'No KO', 'No KO',\n",
       "       'No KO', 'No KO', 'No KO', 'KO', 'KO', 'No KO', 'KO', 'No KO', 'KO',\n",
       "       'KO', 'No KO', 'KO', 'No KO', 'No KO', 'No KO', 'No KO', 'No KO',\n",
       "       'No KO', 'No KO', 'No KO', 'KO', 'No KO', 'No KO', 'No KO', 'KO',\n",
       "       'No KO', 'No KO', 'No KO', 'No KO', 'No KO', 'KO', 'No KO', 'No KO',\n",
       "       'No KO', 'No KO', 'No KO', 'No KO', 'No KO', 'No KO', 'No KO',\n",
       "       'No KO', 'KO', 'No KO', 'KO', 'KO', 'No KO', 'KO', 'KO', 'No KO',\n",
       "       'No KO', 'No KO', 'No KO', 'No KO', 'No KO', 'No KO', 'No KO',\n",
       "       'No KO', 'No KO', 'No KO', 'No KO', 'No KO', 'No KO', 'No KO',\n",
       "       'No KO', 'No KO'], dtype=object)"
      ]
     },
     "execution_count": 10,
     "metadata": {},
     "output_type": "execute_result"
    }
   ],
   "source": [
    "class_le.inverse_transform(df['survived'])"
   ]
  },
  {
   "cell_type": "markdown",
   "metadata": {},
   "source": [
    "<br>\n",
    "<br>"
   ]
  },
  {
   "cell_type": "markdown",
   "metadata": {},
   "source": [
    "### scikit  DictVectorizer"
   ]
  },
  {
   "cell_type": "markdown",
   "metadata": {},
   "source": [
    "The [`DictVectorizer`](http://scikit-learn.org/stable/modules/generated/sklearn.feature_extraction.DictVectorizer.html) is another handy tool for feature extraction. The `DictVectorizer` takes a list of dictionary entries (feature-value mappings) and transforms it to vectors. The expected input looks like this:"
   ]
  },
  {
   "cell_type": "code",
   "execution_count": 11,
   "metadata": {
    "collapsed": false
   },
   "outputs": [
    {
     "data": {
      "text/html": [
       "<div>\n",
       "<table border=\"1\" class=\"dataframe\">\n",
       "  <thead>\n",
       "    <tr style=\"text-align: right;\">\n",
       "      <th></th>\n",
       "      <th>pclass</th>\n",
       "      <th>survived</th>\n",
       "      <th>age</th>\n",
       "      <th>embarked</th>\n",
       "      <th>sex</th>\n",
       "    </tr>\n",
       "  </thead>\n",
       "  <tbody>\n",
       "    <tr>\n",
       "      <th>0</th>\n",
       "      <td>1st</td>\n",
       "      <td>0</td>\n",
       "      <td>29.0000</td>\n",
       "      <td>Southampton</td>\n",
       "      <td>female</td>\n",
       "    </tr>\n",
       "    <tr>\n",
       "      <th>1</th>\n",
       "      <td>1st</td>\n",
       "      <td>1</td>\n",
       "      <td>2.0000</td>\n",
       "      <td>Southampton</td>\n",
       "      <td>female</td>\n",
       "    </tr>\n",
       "    <tr>\n",
       "      <th>2</th>\n",
       "      <td>1st</td>\n",
       "      <td>1</td>\n",
       "      <td>30.0000</td>\n",
       "      <td>Southampton</td>\n",
       "      <td>male</td>\n",
       "    </tr>\n",
       "    <tr>\n",
       "      <th>3</th>\n",
       "      <td>1st</td>\n",
       "      <td>1</td>\n",
       "      <td>25.0000</td>\n",
       "      <td>Southampton</td>\n",
       "      <td>female</td>\n",
       "    </tr>\n",
       "    <tr>\n",
       "      <th>4</th>\n",
       "      <td>1st</td>\n",
       "      <td>0</td>\n",
       "      <td>0.9167</td>\n",
       "      <td>Southampton</td>\n",
       "      <td>male</td>\n",
       "    </tr>\n",
       "  </tbody>\n",
       "</table>\n",
       "</div>"
      ],
      "text/plain": [
       "  pclass  survived      age     embarked     sex\n",
       "0    1st         0  29.0000  Southampton  female\n",
       "1    1st         1   2.0000  Southampton  female\n",
       "2    1st         1  30.0000  Southampton    male\n",
       "3    1st         1  25.0000  Southampton  female\n",
       "4    1st         0   0.9167  Southampton    male"
      ]
     },
     "execution_count": 11,
     "metadata": {},
     "output_type": "execute_result"
    }
   ],
   "source": [
    "df.head()"
   ]
  },
  {
   "cell_type": "markdown",
   "metadata": {},
   "source": [
    "Note that the dictionary keys in each row represent the feature column labels. "
   ]
  },
  {
   "cell_type": "markdown",
   "metadata": {},
   "source": [
    "<br>\n",
    "<br>"
   ]
  },
  {
   "cell_type": "markdown",
   "metadata": {},
   "source": [
    "Now, we can use the `DictVectorizer` to turn this\n",
    "mapping into a matrix:"
   ]
  },
  {
   "cell_type": "code",
   "execution_count": 12,
   "metadata": {
    "collapsed": false
   },
   "outputs": [
    {
     "data": {
      "text/plain": [
       "array([[ 29.,   0.,   0., ...,   1.,   0.,   0.],\n",
       "       [  2.,   0.,   0., ...,   1.,   0.,   1.],\n",
       "       [ 30.,   0.,   0., ...,   0.,   1.,   1.],\n",
       "       ..., \n",
       "       [ 37.,   0.,   0., ...,   0.,   1.,   1.],\n",
       "       [ 28.,   0.,   0., ...,   0.,   1.,   1.],\n",
       "       [ 19.,   0.,   0., ...,   0.,   1.,   1.]])"
      ]
     },
     "execution_count": 12,
     "metadata": {},
     "output_type": "execute_result"
    }
   ],
   "source": [
    "from sklearn.feature_extraction import DictVectorizer\n",
    "dvec = DictVectorizer(sparse=False)\n",
    "\n",
    "X = dvec.fit_transform(df.transpose().to_dict().values())\n",
    "X"
   ]
  },
  {
   "cell_type": "markdown",
   "metadata": {},
   "source": [
    "<br>\n",
    "<br>"
   ]
  },
  {
   "cell_type": "markdown",
   "metadata": {},
   "source": [
    "As we can see in the array above, the columns were reordered during the conversion (due to the hash mapping when we used the dictionary). However, we can simply add back the column names via the `get_feature_names` function."
   ]
  },
  {
   "cell_type": "code",
   "execution_count": 13,
   "metadata": {
    "collapsed": false
   },
   "outputs": [
    {
     "data": {
      "text/html": [
       "<div>\n",
       "<table border=\"1\" class=\"dataframe\">\n",
       "  <thead>\n",
       "    <tr style=\"text-align: right;\">\n",
       "      <th></th>\n",
       "      <th>age</th>\n",
       "      <th>embarked=Cherbourg</th>\n",
       "      <th>embarked=Queenstown</th>\n",
       "      <th>embarked=Southampton</th>\n",
       "      <th>pclass=1st</th>\n",
       "      <th>pclass=2nd</th>\n",
       "      <th>pclass=3rd</th>\n",
       "      <th>sex=female</th>\n",
       "      <th>sex=male</th>\n",
       "      <th>survived</th>\n",
       "    </tr>\n",
       "  </thead>\n",
       "  <tbody>\n",
       "    <tr>\n",
       "      <th>0</th>\n",
       "      <td>29.0000</td>\n",
       "      <td>0.0</td>\n",
       "      <td>0.0</td>\n",
       "      <td>1.0</td>\n",
       "      <td>1.0</td>\n",
       "      <td>0.0</td>\n",
       "      <td>0.0</td>\n",
       "      <td>1.0</td>\n",
       "      <td>0.0</td>\n",
       "      <td>0.0</td>\n",
       "    </tr>\n",
       "    <tr>\n",
       "      <th>1</th>\n",
       "      <td>2.0000</td>\n",
       "      <td>0.0</td>\n",
       "      <td>0.0</td>\n",
       "      <td>1.0</td>\n",
       "      <td>1.0</td>\n",
       "      <td>0.0</td>\n",
       "      <td>0.0</td>\n",
       "      <td>1.0</td>\n",
       "      <td>0.0</td>\n",
       "      <td>1.0</td>\n",
       "    </tr>\n",
       "    <tr>\n",
       "      <th>2</th>\n",
       "      <td>30.0000</td>\n",
       "      <td>0.0</td>\n",
       "      <td>0.0</td>\n",
       "      <td>1.0</td>\n",
       "      <td>1.0</td>\n",
       "      <td>0.0</td>\n",
       "      <td>0.0</td>\n",
       "      <td>0.0</td>\n",
       "      <td>1.0</td>\n",
       "      <td>1.0</td>\n",
       "    </tr>\n",
       "    <tr>\n",
       "      <th>3</th>\n",
       "      <td>25.0000</td>\n",
       "      <td>0.0</td>\n",
       "      <td>0.0</td>\n",
       "      <td>1.0</td>\n",
       "      <td>1.0</td>\n",
       "      <td>0.0</td>\n",
       "      <td>0.0</td>\n",
       "      <td>1.0</td>\n",
       "      <td>0.0</td>\n",
       "      <td>1.0</td>\n",
       "    </tr>\n",
       "    <tr>\n",
       "      <th>4</th>\n",
       "      <td>0.9167</td>\n",
       "      <td>0.0</td>\n",
       "      <td>0.0</td>\n",
       "      <td>1.0</td>\n",
       "      <td>1.0</td>\n",
       "      <td>0.0</td>\n",
       "      <td>0.0</td>\n",
       "      <td>0.0</td>\n",
       "      <td>1.0</td>\n",
       "      <td>0.0</td>\n",
       "    </tr>\n",
       "  </tbody>\n",
       "</table>\n",
       "</div>"
      ],
      "text/plain": [
       "       age  embarked=Cherbourg  embarked=Queenstown  embarked=Southampton  \\\n",
       "0  29.0000                 0.0                  0.0                   1.0   \n",
       "1   2.0000                 0.0                  0.0                   1.0   \n",
       "2  30.0000                 0.0                  0.0                   1.0   \n",
       "3  25.0000                 0.0                  0.0                   1.0   \n",
       "4   0.9167                 0.0                  0.0                   1.0   \n",
       "\n",
       "   pclass=1st  pclass=2nd  pclass=3rd  sex=female  sex=male  survived  \n",
       "0         1.0         0.0         0.0         1.0       0.0       0.0  \n",
       "1         1.0         0.0         0.0         1.0       0.0       1.0  \n",
       "2         1.0         0.0         0.0         0.0       1.0       1.0  \n",
       "3         1.0         0.0         0.0         1.0       0.0       1.0  \n",
       "4         1.0         0.0         0.0         0.0       1.0       0.0  "
      ]
     },
     "execution_count": 13,
     "metadata": {},
     "output_type": "execute_result"
    }
   ],
   "source": [
    "df_new = pd.DataFrame(X, columns=dvec.get_feature_names())\n",
    "df_new.head()"
   ]
  },
  {
   "cell_type": "markdown",
   "metadata": {},
   "source": [
    "<br>\n",
    "<br>"
   ]
  },
  {
   "cell_type": "markdown",
   "metadata": {},
   "source": [
    "### scikit OneHotEncoder"
   ]
  },
  {
   "cell_type": "markdown",
   "metadata": {},
   "source": [
    "Another useful tool in scikit-learn is the [`OneHotEncoder`](http://scikit-learn.org/stable/modules/generated/sklearn.preprocessing.OneHotEncoder.html). The idea is the same as in the `DictVectorizer` example above; the only difference is that the `OneHotEncoder` takes integer columns as input. Here we are an `LabelEncoder`, we use the `LabelEncoder` first, to prepare the `color` column before we use the `OneHotEncoder`."
   ]
  },
  {
   "cell_type": "code",
   "execution_count": 14,
   "metadata": {
    "collapsed": false
   },
   "outputs": [
    {
     "data": {
      "text/html": [
       "<div>\n",
       "<table border=\"1\" class=\"dataframe\">\n",
       "  <thead>\n",
       "    <tr style=\"text-align: right;\">\n",
       "      <th></th>\n",
       "      <th>pclass</th>\n",
       "      <th>survived</th>\n",
       "      <th>age</th>\n",
       "      <th>embarked</th>\n",
       "      <th>sex</th>\n",
       "    </tr>\n",
       "  </thead>\n",
       "  <tbody>\n",
       "    <tr>\n",
       "      <th>0</th>\n",
       "      <td>1st</td>\n",
       "      <td>0</td>\n",
       "      <td>29.0000</td>\n",
       "      <td>2</td>\n",
       "      <td>female</td>\n",
       "    </tr>\n",
       "    <tr>\n",
       "      <th>1</th>\n",
       "      <td>1st</td>\n",
       "      <td>1</td>\n",
       "      <td>2.0000</td>\n",
       "      <td>2</td>\n",
       "      <td>female</td>\n",
       "    </tr>\n",
       "    <tr>\n",
       "      <th>2</th>\n",
       "      <td>1st</td>\n",
       "      <td>1</td>\n",
       "      <td>30.0000</td>\n",
       "      <td>2</td>\n",
       "      <td>male</td>\n",
       "    </tr>\n",
       "    <tr>\n",
       "      <th>3</th>\n",
       "      <td>1st</td>\n",
       "      <td>1</td>\n",
       "      <td>25.0000</td>\n",
       "      <td>2</td>\n",
       "      <td>female</td>\n",
       "    </tr>\n",
       "    <tr>\n",
       "      <th>4</th>\n",
       "      <td>1st</td>\n",
       "      <td>0</td>\n",
       "      <td>0.9167</td>\n",
       "      <td>2</td>\n",
       "      <td>male</td>\n",
       "    </tr>\n",
       "  </tbody>\n",
       "</table>\n",
       "</div>"
      ],
      "text/plain": [
       "  pclass  survived      age  embarked     sex\n",
       "0    1st         0  29.0000         2  female\n",
       "1    1st         1   2.0000         2  female\n",
       "2    1st         1  30.0000         2    male\n",
       "3    1st         1  25.0000         2  female\n",
       "4    1st         0   0.9167         2    male"
      ]
     },
     "execution_count": 14,
     "metadata": {},
     "output_type": "execute_result"
    }
   ],
   "source": [
    "color_le = LabelEncoder()\n",
    "df['embarked'] = color_le.fit_transform(df['embarked'])\n",
    "\n",
    "df.head()"
   ]
  },
  {
   "cell_type": "code",
   "execution_count": 15,
   "metadata": {
    "collapsed": false
   },
   "outputs": [
    {
     "data": {
      "text/plain": [
       "array([[ 0.,  0.,  1.],\n",
       "       [ 0.,  0.,  1.],\n",
       "       [ 0.,  0.,  1.],\n",
       "       ..., \n",
       "       [ 0.,  0.,  1.],\n",
       "       [ 0.,  0.,  1.],\n",
       "       [ 0.,  0.,  1.]])"
      ]
     },
     "execution_count": 15,
     "metadata": {},
     "output_type": "execute_result"
    }
   ],
   "source": [
    "from sklearn.preprocessing import OneHotEncoder\n",
    "ohe = OneHotEncoder(sparse=False)\n",
    "\n",
    "X = ohe.fit_transform(df[['embarked']].values)\n",
    "X"
   ]
  },
  {
   "cell_type": "markdown",
   "metadata": {},
   "source": [
    "<br>\n",
    "<br>"
   ]
  },
  {
   "cell_type": "markdown",
   "metadata": {},
   "source": [
    "### pandas get_dummies"
   ]
  },
  {
   "cell_type": "markdown",
   "metadata": {},
   "source": [
    "Also, pandas comes with a convenience function to create new categories for nominal features, namely: [`get_dummies`](http://pandas.pydata.org/pandas-docs/stable/generated/pandas.core.reshape.get_dummies.html).\n",
    "Using the get_dummies will create a new column for every unique string in a certain column:"
   ]
  },
  {
   "cell_type": "code",
   "execution_count": 16,
   "metadata": {
    "collapsed": false
   },
   "outputs": [
    {
     "data": {
      "text/html": [
       "<div>\n",
       "<table border=\"1\" class=\"dataframe\">\n",
       "  <thead>\n",
       "    <tr style=\"text-align: right;\">\n",
       "      <th></th>\n",
       "      <th>survived</th>\n",
       "      <th>age</th>\n",
       "      <th>embarked</th>\n",
       "      <th>pclass_1st</th>\n",
       "      <th>pclass_2nd</th>\n",
       "      <th>pclass_3rd</th>\n",
       "      <th>sex_female</th>\n",
       "      <th>sex_male</th>\n",
       "    </tr>\n",
       "  </thead>\n",
       "  <tbody>\n",
       "    <tr>\n",
       "      <th>0</th>\n",
       "      <td>0</td>\n",
       "      <td>29.0000</td>\n",
       "      <td>2</td>\n",
       "      <td>1</td>\n",
       "      <td>0</td>\n",
       "      <td>0</td>\n",
       "      <td>1</td>\n",
       "      <td>0</td>\n",
       "    </tr>\n",
       "    <tr>\n",
       "      <th>1</th>\n",
       "      <td>1</td>\n",
       "      <td>2.0000</td>\n",
       "      <td>2</td>\n",
       "      <td>1</td>\n",
       "      <td>0</td>\n",
       "      <td>0</td>\n",
       "      <td>1</td>\n",
       "      <td>0</td>\n",
       "    </tr>\n",
       "    <tr>\n",
       "      <th>2</th>\n",
       "      <td>1</td>\n",
       "      <td>30.0000</td>\n",
       "      <td>2</td>\n",
       "      <td>1</td>\n",
       "      <td>0</td>\n",
       "      <td>0</td>\n",
       "      <td>0</td>\n",
       "      <td>1</td>\n",
       "    </tr>\n",
       "    <tr>\n",
       "      <th>3</th>\n",
       "      <td>1</td>\n",
       "      <td>25.0000</td>\n",
       "      <td>2</td>\n",
       "      <td>1</td>\n",
       "      <td>0</td>\n",
       "      <td>0</td>\n",
       "      <td>1</td>\n",
       "      <td>0</td>\n",
       "    </tr>\n",
       "    <tr>\n",
       "      <th>4</th>\n",
       "      <td>0</td>\n",
       "      <td>0.9167</td>\n",
       "      <td>2</td>\n",
       "      <td>1</td>\n",
       "      <td>0</td>\n",
       "      <td>0</td>\n",
       "      <td>0</td>\n",
       "      <td>1</td>\n",
       "    </tr>\n",
       "  </tbody>\n",
       "</table>\n",
       "</div>"
      ],
      "text/plain": [
       "   survived      age  embarked  pclass_1st  pclass_2nd  pclass_3rd  \\\n",
       "0         0  29.0000         2           1           0           0   \n",
       "1         1   2.0000         2           1           0           0   \n",
       "2         1  30.0000         2           1           0           0   \n",
       "3         1  25.0000         2           1           0           0   \n",
       "4         0   0.9167         2           1           0           0   \n",
       "\n",
       "   sex_female  sex_male  \n",
       "0           1         0  \n",
       "1           1         0  \n",
       "2           0         1  \n",
       "3           1         0  \n",
       "4           0         1  "
      ]
     },
     "execution_count": 16,
     "metadata": {},
     "output_type": "execute_result"
    }
   ],
   "source": [
    "df_new = pd.get_dummies(df)\n",
    "df_new.head()"
   ]
  },
  {
   "cell_type": "markdown",
   "metadata": {},
   "source": [
    "Note that the `get_dummies` function leaves the numeric columns untouched, how convenient!"
   ]
  },
  {
   "cell_type": "code",
   "execution_count": 18,
   "metadata": {
    "collapsed": true
   },
   "outputs": [],
   "source": [
    "df_new.to_csv('./data/dataset_newTitanic.csv', index=False)"
   ]
  }
 ],
 "metadata": {
  "anaconda-cloud": {},
  "kernelspec": {
   "display_name": "Python [Root]",
   "language": "python",
   "name": "Python [Root]"
  },
  "language_info": {
   "codemirror_mode": {
    "name": "ipython",
    "version": 2
   },
   "file_extension": ".py",
   "mimetype": "text/x-python",
   "name": "python",
   "nbconvert_exporter": "python",
   "pygments_lexer": "ipython2",
   "version": "2.7.10"
  }
 },
 "nbformat": 4,
 "nbformat_minor": 0
}
