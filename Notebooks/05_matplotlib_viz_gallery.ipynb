{
 "cells": [
  {
   "cell_type": "markdown",
   "metadata": {},
   "source": [
    "# Tutorial: Machine Learning in scikit-learn\n",
    "*From the [Sebastian Raschka](https://github.com/rasbt/pattern_classification) the GitHub repository [pattern_classification](https://github.com/rasbt/pattern_classification)*"
   ]
  },
  {
   "cell_type": "markdown",
   "metadata": {},
   "source": [
    "![Machine learning](images/01_robot.png)"
   ]
  },
  {
   "cell_type": "markdown",
   "metadata": {},
   "source": [
    "# Matplolib examples - visualization techniques for exploratory data analysis"
   ]
  },
  {
   "cell_type": "markdown",
   "metadata": {},
   "source": [
    "There are enumerous useful visualization techniques that are useful for exploratory data analysis: In practice, the choice highly depends on the kind of data and the question at hand. \n",
    "\n",
    "This IPython notebook is a small gallery for visualizing the Iris flower dataset. This gallery is more meant to be a code matplotlib reference so that certain plots may be more or less useful in the context of this dataset. "
   ]
  },
  {
   "cell_type": "markdown",
   "metadata": {},
   "source": [
    "## Reading in the dataset"
   ]
  },
  {
   "cell_type": "code",
   "execution_count": null,
   "metadata": {
    "collapsed": false
   },
   "outputs": [],
   "source": [
    "# import load_iris function from datasets module\n",
    "from sklearn.datasets import load_iris\n",
    "import pandas as pd\n",
    "\n",
    "iris = load_iris()\n",
    "\n",
    "# print the names of the four features\n",
    "feature_names = iris.feature_names\n",
    "data = iris.data\n",
    "target = iris.target\n",
    "\n",
    "X = pd.DataFrame(data, columns=feature_names)\n",
    "X.head()"
   ]
  },
  {
   "cell_type": "code",
   "execution_count": null,
   "metadata": {
    "collapsed": false
   },
   "outputs": [],
   "source": [
    "label_mapping = {0: 'Setosa', 1: 'Versicolor', 2:'Virginica'}\n",
    "\n",
    "y = pd.DataFrame()\n",
    "y = target\n",
    "y"
   ]
  },
  {
   "cell_type": "markdown",
   "metadata": {},
   "source": [
    "## Feature plot"
   ]
  },
  {
   "cell_type": "code",
   "execution_count": null,
   "metadata": {
    "collapsed": false
   },
   "outputs": [],
   "source": [
    "%matplotlib inline"
   ]
  },
  {
   "cell_type": "code",
   "execution_count": null,
   "metadata": {
    "collapsed": false
   },
   "outputs": [],
   "source": [
    "X.plot()"
   ]
  },
  {
   "cell_type": "code",
   "execution_count": null,
   "metadata": {
    "collapsed": false
   },
   "outputs": [],
   "source": [
    "X.hist() # X[(y==0)].hist()"
   ]
  },
  {
   "cell_type": "code",
   "execution_count": null,
   "metadata": {
    "collapsed": false
   },
   "outputs": [],
   "source": [
    "X['petal length (cm)'][(y==0)].hist()\n",
    "X['petal length (cm)'][(y==1)].hist(ls='dashed', lw=0.5, alpha=0.5)\n",
    "X['petal length (cm)'][(y==2)].hist(ls='dashed', lw=0.5, alpha=0.5)"
   ]
  },
  {
   "cell_type": "markdown",
   "metadata": {},
   "source": [
    "## Pie chart"
   ]
  },
  {
   "cell_type": "code",
   "execution_count": null,
   "metadata": {
    "collapsed": false
   },
   "outputs": [],
   "source": [
    "from matplotlib import pyplot as plt\n",
    "import numpy as np\n",
    "\n",
    "plt.pie(\n",
    "    [X[y==i].shape[0] for i in range(3)],\n",
    "    labels=[label_mapping[i] for i in range(3)],\n",
    "    shadow=True,\n",
    "    colors=('yellowgreen', 'lightskyblue', 'gold'),\n",
    "    startangle=90,      # rotate conter-clockwise by 90 degrees\n",
    "    autopct='%1.1f%%',  # display fraction as percentage\n",
    "    )\n",
    "\n",
    "plt.legend(fancybox=True, loc='lower right')\n",
    "\n",
    "plt.title('Class distribution of the 3 different flower species')\n",
    "plt.axis('equal')     # plot pyplot as circle\n",
    "\n",
    "plt.tight_layout()"
   ]
  },
  {
   "cell_type": "markdown",
   "metadata": {},
   "source": [
    "## Bar plot"
   ]
  },
  {
   "cell_type": "code",
   "execution_count": null,
   "metadata": {
    "collapsed": false
   },
   "outputs": [],
   "source": [
    "import matplotlib.pyplot as plt\n",
    "\n",
    "X = X[[0,1,2,3]].values \n",
    "# X = X.values\n",
    "# y = target\n",
    "\n",
    "label_dict = {0: 'Setosa', 1: 'Versicolor', 2:'Virginica'}\n",
    "attr_dict = {0: 'sepal length', \n",
    "            1:  'sepal width', \n",
    "            2:  'petal length', \n",
    "            3:  'petal width'}\n",
    "# dictionary of the feature names\n",
    "feature_dict = {i:label for i,label in zip(\n",
    "            range(4),\n",
    "              ('sepal length in cm', \n",
    "              'sepal width in cm', \n",
    "              'petal length in cm', \n",
    "              'petal width in cm', ))}\n",
    "\n",
    "\n",
    "mean_vals = [X[y==i,:].mean(axis=0) for i in range(3)]\n",
    "\n",
    "labels = [attr_dict[i] for i in range(4)]\n",
    "\n",
    "# Setting the positions and width for the bars\n",
    "pos = np.arange(4)\n",
    "width = 0.2 \n",
    "    \n",
    "# Plotting the bars\n",
    "fig, ax = plt.subplots(figsize=(8,6))\n",
    "\n",
    "plt.bar(pos, mean_vals[0], width,\n",
    "                 alpha=0.5,\n",
    "                 color='g',\n",
    "                 label=labels[0])\n",
    "\n",
    "plt.bar([p + width for p in pos], mean_vals[1], width,\n",
    "                 alpha=0.5,\n",
    "                 color='b',\n",
    "                 label=labels[1])\n",
    "    \n",
    "plt.bar([p + width*2 for p in pos], mean_vals[2], width,\n",
    "                 alpha=0.5,\n",
    "                 color='r',\n",
    "                 label=labels[2])\n",
    "\n",
    "# Setting axis labels and ticks\n",
    "ax.set_ylabel('cm')\n",
    "ax.set_title('Average values for the flower dimensions')\n",
    "ax.set_xticks([p + 1.5 * width for p in pos])\n",
    "ax.set_xticklabels(labels)\n",
    "\n",
    "# Setting the x-axis and y-axis limits\n",
    "plt.xlim(min(pos)-width, max(pos)+width*4)\n",
    "\n",
    "\n",
    "# Adding the legend and showing the plot\n",
    "plt.legend([label_dict[i] for i in range(3)], loc='upper right')\n",
    "\n",
    "# adding horizontal grid lines \n",
    "ax.yaxis.grid(True) \n",
    "\n",
    "plt.show()"
   ]
  },
  {
   "cell_type": "markdown",
   "metadata": {},
   "source": [
    "## Box plot"
   ]
  },
  {
   "cell_type": "code",
   "execution_count": null,
   "metadata": {
    "collapsed": false
   },
   "outputs": [],
   "source": [
    "fig = plt.figure(figsize=(8,6))\n",
    "ax = plt.subplot(111)\n",
    "\n",
    "bplot = plt.boxplot([X[y==i,3] for i in range(3)],\n",
    "        notch=True,          # notch shape \n",
    "        vert=True,           # vertical box aligmnent\n",
    "        sym='ko',            # black circle for outliers\n",
    "        patch_artist=True)   # fill with color\n",
    "\n",
    "# choosing custom colors to fill the boxes\n",
    "colors = ['pink', 'lightblue', 'lightgreen']\n",
    "for patch, color in zip(bplot['boxes'], colors):\n",
    "    patch.set_facecolor(color)\n",
    "\n",
    "# modifying the whiskers: straight lines, black, wider\n",
    "for whisker in bplot['whiskers']:\n",
    "    whisker.set(color='black', linewidth=1.2, linestyle='-')    \n",
    "    \n",
    "# making the caps a little bit wider \n",
    "for cap in bplot['caps']:\n",
    "    cap.set(linewidth=1.2)\n",
    "    \n",
    "# hiding axis ticks\n",
    "plt.tick_params(axis=\"both\", which=\"both\", bottom=\"off\", top=\"off\",  \n",
    "        labelbottom=\"on\", left=\"off\", right=\"off\", labelleft=\"on\")\n",
    "\n",
    "# adding horizontal grid lines \n",
    "ax.yaxis.grid(True)\n",
    "\n",
    "plt.xticks([y+1 for y in range(4)],\n",
    "           [label_dict[i] for i in range(3)])\n",
    "plt.ylim([0,3])\n",
    "\n",
    "plt.title('Petal widths of the three different flower species')\n",
    "plt.ylabel('cm')\n",
    "plt.show()"
   ]
  },
  {
   "cell_type": "markdown",
   "metadata": {},
   "source": [
    "## 1D Histogram"
   ]
  },
  {
   "cell_type": "code",
   "execution_count": null,
   "metadata": {
    "collapsed": false
   },
   "outputs": [],
   "source": [
    "import math\n",
    "\n",
    "fig, axes = plt.subplots(nrows=2, ncols=2, figsize=(12,6))\n",
    "y = target\n",
    "\n",
    "for ax,cnt in zip(axes.ravel(), range(4)):\n",
    "\n",
    "    # set bin sizes\n",
    "    min_b = math.floor(np.min(X[:,cnt]))\n",
    "    max_b = math.ceil(np.max(X[:,cnt]))\n",
    "    bins = np.linspace(min_b, max_b, 25)\n",
    "\n",
    "    # plottling the histograms\n",
    "    for lab,col in zip(range(3), ('blue', 'red', 'green')):\n",
    "        ax.hist(X[y==lab, cnt],\n",
    "                   color=col, \n",
    "                   label='%s' %label_dict[lab], \n",
    "                   bins=bins,\n",
    "                   alpha=0.5,)\n",
    "    ylims = ax.get_ylim()\n",
    "\n",
    "    # plot annotation\n",
    "    leg = ax.legend(loc='upper right', fancybox=True, fontsize=8)\n",
    "    ax.set_ylim([0, max(ylims)+2])\n",
    "    ax.set_xlabel(feature_dict[cnt])\n",
    "    ax.set_title('Iris histogram #%s' %str(cnt+1))\n",
    "    \n",
    "    # adding horizontal grid lines \n",
    "    ax.yaxis.grid(True)\n",
    "\n",
    "    # hide axis ticks\n",
    "    ax.tick_params(axis=\"both\", which=\"both\", bottom=\"off\", top=\"off\",  \n",
    "            labelbottom=\"on\", left=\"off\", right=\"off\", labelleft=\"on\")\n",
    "\n",
    "    # remove axis spines\n",
    "    ax.spines[\"top\"].set_visible(False)  \n",
    "    ax.spines[\"right\"].set_visible(False) \n",
    "    ax.spines[\"bottom\"].set_visible(False) \n",
    "    ax.spines[\"left\"].set_visible(False)\n",
    "\n",
    "axes[0][0].set_ylabel('count')\n",
    "axes[1][0].set_ylabel('count')\n",
    "\n",
    "fig.tight_layout()\n",
    "\n",
    "plt.show()"
   ]
  },
  {
   "cell_type": "markdown",
   "metadata": {},
   "source": [
    "## 2D Histogram"
   ]
  },
  {
   "cell_type": "code",
   "execution_count": null,
   "metadata": {
    "collapsed": false
   },
   "outputs": [],
   "source": [
    "fig = plt.figure(figsize=(6,6))\n",
    "\n",
    "hist, xedges, yedges = np.histogram2d(X[y==0,2], X[y==0,3])\n",
    "\n",
    "plt.xlabel('petal length (cm)')\n",
    "plt.ylabel('petal width (cm)')\n",
    "plt.title('Petal dimensions of Setosa')\n",
    "plt.imshow(hist)\n",
    "plt.grid(True)\n",
    "plt.colorbar()\n",
    "\n",
    "plt.show()"
   ]
  },
  {
   "cell_type": "markdown",
   "metadata": {},
   "source": [
    "## 3D Histogram"
   ]
  },
  {
   "cell_type": "code",
   "execution_count": null,
   "metadata": {
    "collapsed": false
   },
   "outputs": [],
   "source": [
    "from mpl_toolkits.mplot3d import Axes3D\n",
    "\n",
    "fig = plt.figure(figsize=(8,6))\n",
    "ax = fig.add_subplot(111, projection='3d')\n",
    "x1, y1 = np.copy(X[:,2]), np.copy(X[:,3])\n",
    "hist, xedges, yedges = np.histogram2d(x1, y1, bins=4)\n",
    "\n",
    "elements = (len(xedges) - 1) * (len(yedges) - 1)\n",
    "xpos, ypos = np.meshgrid(xedges[:-1]+0.25, yedges[:-1]+0.25)\n",
    "\n",
    "xpos = xpos.flatten()\n",
    "ypos = ypos.flatten()\n",
    "zpos = np.zeros(elements)\n",
    "dx = 0.5 * np.ones_like(zpos)\n",
    "dy = dx.copy()\n",
    "dz = hist.flatten()\n",
    "\n",
    "ax.set_xlabel('petal length (cm)')\n",
    "ax.set_ylabel('petal width (cm)')\n",
    "ax.set_zlabel('count')\n",
    "plt.title('Petal length and width distributions for all samples')\n",
    "\n",
    "ax.bar3d(xpos, ypos, zpos, dx, dy, dz, color='b', zsort='average')\n",
    "\n",
    "plt.show()"
   ]
  },
  {
   "cell_type": "markdown",
   "metadata": {},
   "source": [
    "## Scatter plot"
   ]
  },
  {
   "cell_type": "code",
   "execution_count": null,
   "metadata": {
    "collapsed": false
   },
   "outputs": [],
   "source": [
    "fig = plt.figure(figsize=(6,6))\n",
    "ax = fig.add_subplot(111)\n",
    "\n",
    "colors = ['blue', 'red', 'green']\n",
    "markers = ['s', 'o', '^']\n",
    "\n",
    "for lab, c, m in zip(range(3), colors, markers):\n",
    "    ax.scatter(X[y==lab, 2], X[y==lab, 3], \n",
    "               c=c,      # color\n",
    "               marker=m, # marker symbol\n",
    "               s=40,     # markersize\n",
    "               alpha=0.4, # transparency\n",
    "               label=label_dict[lab]\n",
    "               )\n",
    "\n",
    "ax.set_xlabel('petal height (cm)')\n",
    "ax.set_ylabel('petal width (cm)')\n",
    "plt.legend(loc='upper left')\n",
    "plt.grid()\n",
    "\n",
    "plt.show()"
   ]
  },
  {
   "cell_type": "markdown",
   "metadata": {},
   "source": [
    "## 3D Scatter plot"
   ]
  },
  {
   "cell_type": "code",
   "execution_count": null,
   "metadata": {
    "collapsed": false
   },
   "outputs": [],
   "source": [
    "from mpl_toolkits.mplot3d import Axes3D\n",
    "\n",
    "### plot scatterplot\n",
    "\n",
    "fig = plt.figure(figsize=(8,8))\n",
    "ax = fig.add_subplot(111, projection='3d')\n",
    "\n",
    "colors = ['blue', 'red', 'green']\n",
    "markers = ['s', 'o', '^']\n",
    "\n",
    "for lab, c, m in zip(range(3), colors, markers):\n",
    "    ax.scatter(X[y==lab, 1], X[y==lab, 2], X[y==lab, 3], \n",
    "               c=c,      # color\n",
    "               marker=m, # marker symbol\n",
    "               s=40,     # markersize\n",
    "               alpha=0.7 # transparency\n",
    "               )\n",
    "\n",
    "ax.set_xlabel('sepal width (cm)')\n",
    "ax.set_ylabel('petal height (cm)')\n",
    "ax.set_zlabel('petal width (cm)')\n",
    "plt.show()\n",
    "\n",
    "\n",
    "### plot legend\n",
    "fig,ax = plt.subplots(1,1)\n",
    "ax.hold(True)\n",
    "\n",
    "# dummy plot\n",
    "[ax.plot(None, None, \n",
    "         marker=m, ls='', \n",
    "         c=c, label=l) \n",
    "     for c,l,m in zip(colors, labels, markers)]\n",
    "\n",
    "ax.legend(labels, \n",
    "          loc='upper left',\n",
    "          numpoints=1) # show marker symbol in legend only once\n",
    "\n",
    "# hide axis ticks\n",
    "ax.tick_params(axis=\"both\", which=\"both\", bottom=\"off\", top=\"off\",  \n",
    "       labelbottom=\"off\", left=\"off\", right=\"off\", labelleft=\"off\")\n",
    "\n",
    "# remove axis spines\n",
    "ax.spines[\"top\"].set_visible(False)  \n",
    "ax.spines[\"right\"].set_visible(False) \n",
    "ax.spines[\"bottom\"].set_visible(False) \n",
    "ax.spines[\"left\"].set_visible(False)\n",
    "\n",
    "plt.show()"
   ]
  }
 ],
 "metadata": {
  "anaconda-cloud": {},
  "kernelspec": {
   "display_name": "Python [Root]",
   "language": "python",
   "name": "Python [Root]"
  },
  "language_info": {
   "codemirror_mode": {
    "name": "ipython",
    "version": 2
   },
   "file_extension": ".py",
   "mimetype": "text/x-python",
   "name": "python",
   "nbconvert_exporter": "python",
   "pygments_lexer": "ipython2",
   "version": "2.7.10"
  }
 },
 "nbformat": 4,
 "nbformat_minor": 0
}
