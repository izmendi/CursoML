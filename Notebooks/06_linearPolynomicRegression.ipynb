{
 "cells": [
  {
   "cell_type": "markdown",
   "metadata": {
    "nbpresent": {
     "id": "8707ac36-8381-4470-bd28-e098eda3f869"
    }
   },
   "source": [
    "# Linear regression and polynomic"
   ]
  },
  {
   "cell_type": "code",
   "execution_count": null,
   "metadata": {
    "collapsed": true,
    "nbpresent": {
     "id": "367c91b6-7820-4e4d-b53f-5a60e66da6c8"
    }
   },
   "outputs": [],
   "source": [
    "import numpy as np\n",
    "import matplotlib.pyplot as plt\n",
    "import seaborn as sns\n",
    "import pandas as pd"
   ]
  },
  {
   "cell_type": "code",
   "execution_count": null,
   "metadata": {
    "collapsed": true,
    "nbpresent": {
     "id": "c606e462-5d4e-419f-9dc4-f99f05f3bf6c"
    }
   },
   "outputs": [],
   "source": [
    "%matplotlib inline\n",
    "#Hide warnings\n",
    "import warnings\n",
    "warnings.filterwarnings('ignore')"
   ]
  },
  {
   "cell_type": "code",
   "execution_count": null,
   "metadata": {
    "collapsed": false,
    "nbpresent": {
     "id": "9aaa65d0-c825-4fa1-805d-ba5f94ecd67f"
    }
   },
   "outputs": [],
   "source": [
    "np.random.seed(0)\n",
    "X = np.linspace(0,10,100)\n",
    "y = X**2 + np.random.normal(scale=6, size=100)\n",
    "plt.figure(figsize=(12,5))\n",
    "plt.scatter(X,y, s=50)"
   ]
  },
  {
   "cell_type": "markdown",
   "metadata": {
    "nbpresent": {
     "id": "c1014f6a-a482-43ee-b5e5-2be6aeafa53b"
    }
   },
   "source": [
    "## Linear Regression"
   ]
  },
  {
   "cell_type": "code",
   "execution_count": null,
   "metadata": {
    "collapsed": false,
    "nbpresent": {
     "id": "15e33955-f09d-49c4-abfc-8c4c2fdc39ed"
    }
   },
   "outputs": [],
   "source": [
    "from sklearn.linear_model import LinearRegression\n",
    "reg = LinearRegression()\n",
    "reg.fit(X[:,None], y)"
   ]
  },
  {
   "cell_type": "code",
   "execution_count": null,
   "metadata": {
    "collapsed": false,
    "nbpresent": {
     "id": "8cfd7dd2-f0c2-47f2-a2d4-5ccb77edc7e9"
    }
   },
   "outputs": [],
   "source": [
    "data = pd.DataFrame()\n",
    "data['X'] = X\n",
    "data['y'] = y"
   ]
  },
  {
   "cell_type": "code",
   "execution_count": null,
   "metadata": {
    "collapsed": false,
    "nbpresent": {
     "id": "8f8f945f-0796-44b2-93e6-cdb7d379ee24"
    }
   },
   "outputs": [],
   "source": [
    "plt.figure(figsize=(12,5))\n",
    "plt.scatter(X[:,None],y, s=50)\n",
    "plt.plot(X[:,None],reg.predict(X[:,None]), linewidth=3,c='r')\n",
    "plt.xlabel('X'); plt.ylabel('y')\n",
    "plt.title('Ordinary Least Squares (OLS)')"
   ]
  },
  {
   "cell_type": "code",
   "execution_count": null,
   "metadata": {
    "collapsed": false,
    "nbpresent": {
     "id": "4cfed94f-917a-48d0-80f9-579c3873ca33"
    }
   },
   "outputs": [],
   "source": [
    "print 'Score: '+str(reg.score(X[:,None], y))"
   ]
  },
  {
   "cell_type": "code",
   "execution_count": null,
   "metadata": {
    "collapsed": false,
    "nbpresent": {
     "id": "525a091e-d7c2-4c99-926a-82e098944442"
    }
   },
   "outputs": [],
   "source": [
    "ec = 'y(x) = '+ str(reg.intercept_) + ' + ' + str(reg.coef_[0]) + 'x';\n",
    "ec"
   ]
  },
  {
   "cell_type": "markdown",
   "metadata": {
    "nbpresent": {
     "id": "9c93694d-51f0-4255-8d36-8c42cef10c29"
    }
   },
   "source": [
    "## Polynomial Regression"
   ]
  },
  {
   "cell_type": "code",
   "execution_count": null,
   "metadata": {
    "collapsed": true,
    "nbpresent": {
     "id": "d45590d2-e3fc-4921-ba5d-336baaa3d186"
    }
   },
   "outputs": [],
   "source": [
    "from sklearn.preprocessing import PolynomialFeatures"
   ]
  },
  {
   "cell_type": "code",
   "execution_count": null,
   "metadata": {
    "collapsed": true,
    "nbpresent": {
     "id": "d1e7fd27-28d4-47ff-b4d3-54320d0fae33"
    }
   },
   "outputs": [],
   "source": [
    "# Crear transformador polinómico\n",
    "poly2 = PolynomialFeatures(degree=2)"
   ]
  },
  {
   "cell_type": "code",
   "execution_count": null,
   "metadata": {
    "collapsed": true,
    "nbpresent": {
     "id": "0b07316b-d85f-4a73-add3-2e4e928d6d0b"
    }
   },
   "outputs": [],
   "source": [
    "# Ajustar y Expandir a orden 2 (x1*x1)\n",
    "X2 = poly2.fit_transform(X[:,None])"
   ]
  },
  {
   "cell_type": "code",
   "execution_count": null,
   "metadata": {
    "collapsed": false,
    "nbpresent": {
     "id": "8ca08f7e-5523-4ac9-a17f-fe1a7de8f7cc"
    }
   },
   "outputs": [],
   "source": [
    "# Aplicar Regresion Lineal normal sobre los datos transformados\n",
    "reg2 = LinearRegression();\n",
    "reg2.fit(X2, y)"
   ]
  },
  {
   "cell_type": "code",
   "execution_count": null,
   "metadata": {
    "collapsed": false,
    "nbpresent": {
     "id": "0995699a-12df-4855-90fc-8c22f0cae86e"
    }
   },
   "outputs": [],
   "source": [
    "def plot_figure():\n",
    "    plt.figure(figsize=(12,5))\n",
    "    plt.scatter(X,y, s=50, linewidths=1)\n",
    "    plt.plot(X[:,None],reg.predict(X[:,None]), linewidth=3,c='r', label='lineal')\n",
    "    plt.plot(X[:,None],reg2.predict(X2), linewidth=3,c='m', label='poly 2')\n",
    "    plt.xlabel('X'); plt.ylabel('y'); plt.legend(); plt.title('Polynomial Regression');"
   ]
  },
  {
   "cell_type": "code",
   "execution_count": null,
   "metadata": {
    "collapsed": false
   },
   "outputs": [],
   "source": [
    "plot_figure()"
   ]
  },
  {
   "cell_type": "code",
   "execution_count": null,
   "metadata": {
    "collapsed": false,
    "nbpresent": {
     "id": "59890424-5f0f-4bd4-9a40-8d8d5074d83e"
    }
   },
   "outputs": [],
   "source": [
    "print 'Score: '+str(reg2.score(X2, y))"
   ]
  },
  {
   "cell_type": "code",
   "execution_count": null,
   "metadata": {
    "collapsed": false,
    "nbpresent": {
     "id": "b1637e40-5014-4291-95ca-79a3fa6820e8"
    }
   },
   "outputs": [],
   "source": [
    "ec = 'y(x) = '+ str(reg2.intercept_) +' + '+ str(reg2.coef_[0]) + 'x + ' + str(reg2.coef_[1])+'x^2';\n",
    "ec"
   ]
  }
 ],
 "metadata": {
  "anaconda-cloud": {},
  "kernelspec": {
   "display_name": "Python [Root]",
   "language": "python",
   "name": "Python [Root]"
  },
  "language_info": {
   "codemirror_mode": {
    "name": "ipython",
    "version": 2
   },
   "file_extension": ".py",
   "mimetype": "text/x-python",
   "name": "python",
   "nbconvert_exporter": "python",
   "pygments_lexer": "ipython2",
   "version": "2.7.10"
  },
  "nbpresent": {
   "slides": {
    "07c62ebb-2fe2-4715-b17f-94e6cbb2eb91": {
     "id": "07c62ebb-2fe2-4715-b17f-94e6cbb2eb91",
     "prev": "edc29557-e151-4e17-87cd-e0a2eda2cf2e",
     "regions": {
      "0df2202f-e347-4050-80c7-d8dd68a3dda1": {
       "attrs": {
        "height": 0.8,
        "width": 0.8,
        "x": 0.1,
        "y": 0.1
       },
       "content": {
        "cell": "9aaa65d0-c825-4fa1-805d-ba5f94ecd67f",
        "part": "whole"
       },
       "id": "0df2202f-e347-4050-80c7-d8dd68a3dda1"
      }
     }
    },
    "13be8510-4683-4e93-9587-b0653608df38": {
     "id": "13be8510-4683-4e93-9587-b0653608df38",
     "prev": "3b549a12-e6c8-436d-863c-836d1626dc72",
     "regions": {
      "e005c014-65b3-4c8d-a88b-0b998c87a9ff": {
       "attrs": {
        "height": 0.8,
        "width": 0.8,
        "x": 0.1,
        "y": 0.1
       },
       "content": {
        "cell": "8f8f945f-0796-44b2-93e6-cdb7d379ee24",
        "part": "whole"
       },
       "id": "e005c014-65b3-4c8d-a88b-0b998c87a9ff"
      }
     }
    },
    "1851ba71-f028-4b3c-be3b-ac70a1925788": {
     "id": "1851ba71-f028-4b3c-be3b-ac70a1925788",
     "prev": "13be8510-4683-4e93-9587-b0653608df38",
     "regions": {
      "45acb0ef-583f-4e69-a311-83ddf567143c": {
       "attrs": {
        "height": 0.8,
        "width": 0.8,
        "x": 0.1,
        "y": 0.1
       },
       "content": {
        "cell": "b5266471-5063-458a-b341-bfd6014d7f75",
        "part": "whole"
       },
       "id": "45acb0ef-583f-4e69-a311-83ddf567143c"
      }
     }
    },
    "3ab936a2-cedd-4cbc-9c6e-3a85522ec89e": {
     "id": "3ab936a2-cedd-4cbc-9c6e-3a85522ec89e",
     "prev": "5c887250-2b08-4d93-a54f-9cfc96beea87",
     "regions": {
      "1954ebcb-5342-4d36-a183-0c721cb0b618": {
       "attrs": {
        "height": 0.8,
        "width": 0.8,
        "x": 0.1,
        "y": 0.1
       },
       "content": {
        "cell": "525a091e-d7c2-4c99-926a-82e098944442",
        "part": "whole"
       },
       "id": "1954ebcb-5342-4d36-a183-0c721cb0b618"
      }
     }
    },
    "3b549a12-e6c8-436d-863c-836d1626dc72": {
     "id": "3b549a12-e6c8-436d-863c-836d1626dc72",
     "prev": "9fe12151-e7b3-4910-9167-930b7a96deec",
     "regions": {
      "a7071ad1-eba5-4254-a323-9bb4f8a64384": {
       "attrs": {
        "height": 0.8,
        "width": 0.8,
        "x": 0.1,
        "y": 0.1
       },
       "content": {
        "cell": "8cfd7dd2-f0c2-47f2-a2d4-5ccb77edc7e9",
        "part": "whole"
       },
       "id": "a7071ad1-eba5-4254-a323-9bb4f8a64384"
      }
     }
    },
    "5c887250-2b08-4d93-a54f-9cfc96beea87": {
     "id": "5c887250-2b08-4d93-a54f-9cfc96beea87",
     "prev": "1851ba71-f028-4b3c-be3b-ac70a1925788",
     "regions": {
      "f5a0a08b-6ada-4064-9c71-609a3a49b117": {
       "attrs": {
        "height": 0.8,
        "width": 0.8,
        "x": 0.1,
        "y": 0.1
       },
       "content": {
        "cell": "4cfed94f-917a-48d0-80f9-579c3873ca33",
        "part": "whole"
       },
       "id": "f5a0a08b-6ada-4064-9c71-609a3a49b117"
      }
     }
    },
    "74cf1e42-9c98-4024-9730-d176f2cb0d2f": {
     "id": "74cf1e42-9c98-4024-9730-d176f2cb0d2f",
     "prev": "bfa2e4ae-9e75-4e08-b593-44759031989a",
     "regions": {
      "e151e18c-5852-4e82-8195-7657ee0315af": {
       "attrs": {
        "height": 0.8,
        "width": 0.8,
        "x": 0.1,
        "y": 0.1
       },
       "content": {
        "cell": "487d8d18-a2ef-483d-a4a2-20f0960082f5",
        "part": "whole"
       },
       "id": "e151e18c-5852-4e82-8195-7657ee0315af"
      }
     }
    },
    "83aa52ab-d8c2-4106-88e0-ce36ff69ebf2": {
     "id": "83aa52ab-d8c2-4106-88e0-ce36ff69ebf2",
     "prev": "a933b324-64c1-4457-829c-77a23906704c",
     "regions": {
      "af656537-04bd-41a9-8327-857add55dac5": {
       "attrs": {
        "height": 0.8,
        "width": 0.8,
        "x": 0.1,
        "y": 0.1
       },
       "content": {
        "cell": "d1e7fd27-28d4-47ff-b4d3-54320d0fae33",
        "part": "whole"
       },
       "id": "af656537-04bd-41a9-8327-857add55dac5"
      }
     }
    },
    "8ed5dbf3-26cb-429a-9048-44c90193d442": {
     "id": "8ed5dbf3-26cb-429a-9048-44c90193d442",
     "prev": "83aa52ab-d8c2-4106-88e0-ce36ff69ebf2",
     "regions": {
      "96aa898a-8e61-4278-ba37-c5a7c55ab869": {
       "attrs": {
        "height": 0.8,
        "width": 0.8,
        "x": 0.1,
        "y": 0.1
       },
       "content": {
        "cell": "0b07316b-d85f-4a73-add3-2e4e928d6d0b",
        "part": "whole"
       },
       "id": "96aa898a-8e61-4278-ba37-c5a7c55ab869"
      }
     }
    },
    "90bfd785-08d3-46d6-ae9e-11e01df39268": {
     "id": "90bfd785-08d3-46d6-ae9e-11e01df39268",
     "prev": "07c62ebb-2fe2-4715-b17f-94e6cbb2eb91",
     "regions": {
      "90b67be8-9b00-48ae-a617-8bd1502dbc25": {
       "attrs": {
        "height": 0.8,
        "width": 0.8,
        "x": 0.1,
        "y": 0.1
       },
       "content": {
        "cell": "c1014f6a-a482-43ee-b5e5-2be6aeafa53b",
        "part": "whole"
       },
       "id": "90b67be8-9b00-48ae-a617-8bd1502dbc25"
      }
     }
    },
    "98d24292-a5e8-4ceb-9362-9d62ee70a611": {
     "id": "98d24292-a5e8-4ceb-9362-9d62ee70a611",
     "prev": "d14a68a7-bb55-4dc7-8e02-9de3acca7ef1",
     "regions": {
      "914005f8-cd09-4c3d-a66f-646475a84745": {
       "attrs": {
        "height": 0.8,
        "width": 0.8,
        "x": 0.1,
        "y": 0.1
       },
       "content": {
        "cell": "367c91b6-7820-4e4d-b53f-5a60e66da6c8",
        "part": "whole"
       },
       "id": "914005f8-cd09-4c3d-a66f-646475a84745"
      }
     }
    },
    "9fe12151-e7b3-4910-9167-930b7a96deec": {
     "id": "9fe12151-e7b3-4910-9167-930b7a96deec",
     "prev": "90bfd785-08d3-46d6-ae9e-11e01df39268",
     "regions": {
      "090eb09d-e2e9-4c50-8534-2f4dda7d4876": {
       "attrs": {
        "height": 0.8,
        "width": 0.8,
        "x": 0.1,
        "y": 0.1
       },
       "content": {
        "cell": "15e33955-f09d-49c4-abfc-8c4c2fdc39ed",
        "part": "whole"
       },
       "id": "090eb09d-e2e9-4c50-8534-2f4dda7d4876"
      }
     }
    },
    "a933b324-64c1-4457-829c-77a23906704c": {
     "id": "a933b324-64c1-4457-829c-77a23906704c",
     "prev": "b2295b5a-5f2c-482a-b782-ba613821daa1",
     "regions": {
      "c6b282cf-831d-4df6-9ed8-621106ae3cb3": {
       "attrs": {
        "height": 0.8,
        "width": 0.8,
        "x": 0.1,
        "y": 0.1
       },
       "content": {
        "cell": "d45590d2-e3fc-4921-ba5d-336baaa3d186",
        "part": "whole"
       },
       "id": "c6b282cf-831d-4df6-9ed8-621106ae3cb3"
      }
     }
    },
    "b164b15f-d470-4cef-b70f-4b7917e3ecdf": {
     "id": "b164b15f-d470-4cef-b70f-4b7917e3ecdf",
     "prev": "74cf1e42-9c98-4024-9730-d176f2cb0d2f",
     "regions": {
      "ec9b0648-ab40-4563-b2d3-55405a56d2ce": {
       "attrs": {
        "height": 0.8,
        "width": 0.8,
        "x": 0.1,
        "y": 0.1
       },
       "content": {
        "cell": "0995699a-12df-4855-90fc-8c22f0cae86e",
        "part": "whole"
       },
       "id": "ec9b0648-ab40-4563-b2d3-55405a56d2ce"
      }
     }
    },
    "b2295b5a-5f2c-482a-b782-ba613821daa1": {
     "id": "b2295b5a-5f2c-482a-b782-ba613821daa1",
     "prev": "3ab936a2-cedd-4cbc-9c6e-3a85522ec89e",
     "regions": {
      "62aeae72-2287-4200-af1a-cd2712a33413": {
       "attrs": {
        "height": 0.8,
        "width": 0.8,
        "x": 0.1,
        "y": 0.1
       },
       "content": {
        "cell": "9c93694d-51f0-4255-8d36-8c42cef10c29",
        "part": "whole"
       },
       "id": "62aeae72-2287-4200-af1a-cd2712a33413"
      }
     }
    },
    "bfa2e4ae-9e75-4e08-b593-44759031989a": {
     "id": "bfa2e4ae-9e75-4e08-b593-44759031989a",
     "prev": "8ed5dbf3-26cb-429a-9048-44c90193d442",
     "regions": {
      "6543d25d-eaed-41df-8fb1-84fb7ab4ef65": {
       "attrs": {
        "height": 0.8,
        "width": 0.8,
        "x": 0.1,
        "y": 0.1
       },
       "content": {
        "cell": "8ca08f7e-5523-4ac9-a17f-fe1a7de8f7cc",
        "part": "whole"
       },
       "id": "6543d25d-eaed-41df-8fb1-84fb7ab4ef65"
      }
     }
    },
    "ccb5c0d2-3445-45c6-984f-663af37bb88e": {
     "id": "ccb5c0d2-3445-45c6-984f-663af37bb88e",
     "prev": "b164b15f-d470-4cef-b70f-4b7917e3ecdf",
     "regions": {
      "067362ce-e20a-4163-a1a0-5614f495fc1f": {
       "attrs": {
        "height": 0.8,
        "width": 0.8,
        "x": 0.1,
        "y": 0.1
       },
       "content": {
        "cell": "59890424-5f0f-4bd4-9a40-8d8d5074d83e",
        "part": "whole"
       },
       "id": "067362ce-e20a-4163-a1a0-5614f495fc1f"
      }
     }
    },
    "d14a68a7-bb55-4dc7-8e02-9de3acca7ef1": {
     "id": "d14a68a7-bb55-4dc7-8e02-9de3acca7ef1",
     "prev": null,
     "regions": {
      "116bd1ca-b75f-40e3-b272-c8d58305c77f": {
       "attrs": {
        "height": 0.8,
        "width": 0.8,
        "x": 0.1,
        "y": 0.1
       },
       "content": {
        "cell": "8707ac36-8381-4470-bd28-e098eda3f869",
        "part": "whole"
       },
       "id": "116bd1ca-b75f-40e3-b272-c8d58305c77f"
      }
     }
    },
    "edc29557-e151-4e17-87cd-e0a2eda2cf2e": {
     "id": "edc29557-e151-4e17-87cd-e0a2eda2cf2e",
     "prev": "98d24292-a5e8-4ceb-9362-9d62ee70a611",
     "regions": {
      "6b2493c1-77df-49f0-9cd6-d7b32b705c38": {
       "attrs": {
        "height": 0.8,
        "width": 0.8,
        "x": 0.1,
        "y": 0.1
       },
       "content": {
        "cell": "c606e462-5d4e-419f-9dc4-f99f05f3bf6c",
        "part": "whole"
       },
       "id": "6b2493c1-77df-49f0-9cd6-d7b32b705c38"
      }
     }
    },
    "ef165502-06af-4a3e-898c-3bd1c8eea515": {
     "id": "ef165502-06af-4a3e-898c-3bd1c8eea515",
     "prev": "ccb5c0d2-3445-45c6-984f-663af37bb88e",
     "regions": {
      "8a9571d7-7205-4b66-a8c2-e03502681c46": {
       "attrs": {
        "height": 0.8,
        "width": 0.8,
        "x": 0.1,
        "y": 0.1
       },
       "content": {
        "cell": "b1637e40-5014-4291-95ca-79a3fa6820e8",
        "part": "whole"
       },
       "id": "8a9571d7-7205-4b66-a8c2-e03502681c46"
      }
     }
    }
   },
   "themes": {}
  }
 },
 "nbformat": 4,
 "nbformat_minor": 0
}
