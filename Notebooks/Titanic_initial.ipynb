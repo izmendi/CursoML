{
 "cells": [
  {
   "cell_type": "markdown",
   "metadata": {},
   "source": [
    "# Machine Learning, Python y el Titanic"
   ]
  },
  {
   "cell_type": "markdown",
   "metadata": {},
   "source": [
    "#### Izaskun Mendia (@izaskun.mendia) - Basado en el capítulo 2 del libro \"Learning scikit-learn: Machine Learning in Python\""
   ]
  },
  {
   "cell_type": "markdown",
   "metadata": {},
   "source": [
    "_¿Es posible crear hipótesis sobre quiénes se salvaron en el Titanic? En este pequeño ejercicio, intentaremos generarlas a partir de la información que tenemos de los pasajeros, sabiendo si se salvaron o no. Para esto, el modelo predictivo a utilizar serán Árboles de Decisión. El conjunto de datos (dataset) a utilizar puede bajarse aquí (http://biostat.mc.vanderbilt.edu/wiki/pub/Main/DataSets/titanic.txt)_"
   ]
  },
  {
   "cell_type": "markdown",
   "metadata": {},
   "source": [
    "Importamos las bibliotecas que vamos a utilizar. Las principales son numpy (la biblioteca principal para computación científica con Python), y, por supuesto scikit-learn (que nos permitirá entrenar y aplicar el modelo elegido)."
   ]
  },
  {
   "cell_type": "code",
   "execution_count": 1,
   "metadata": {
    "collapsed": false
   },
   "outputs": [
    {
     "name": "stdout",
     "output_type": "stream",
     "text": [
      "IPython version: 5.1.0\n",
      "numpy version: 1.11.1\n",
      "scikit-learn version: 0.18.1\n",
      "seaborn version: 0.7.0\n",
      "pandas version: 0.19.0\n"
     ]
    }
   ],
   "source": [
    "%matplotlib inline\n",
    "import IPython\n",
    "import sklearn as sk\n",
    "import numpy as np\n",
    "import seaborn as sns\n",
    "import pandas as pd\n",
    "\n",
    "print 'IPython version:', IPython.__version__\n",
    "print 'numpy version:', np.__version__\n",
    "print 'scikit-learn version:', sk.__version__\n",
    "print 'seaborn version:', sns.__version__\n",
    "print 'pandas version:', pd.__version__"
   ]
  },
  {
   "cell_type": "raw",
   "metadata": {},
   "source": [
    "Notar que se supone previamente instalado Anaconda, aún así es posible que alguna libreria haga falta instalarla. \n",
    "Por ejemplo: seaborn y pydotplus, basta con hacer:\n",
    "    $ conda install seaborn\n",
    "    $ conda install -c conda-forge pydotplus=2.0.2"
   ]
  },
  {
   "cell_type": "markdown",
   "metadata": {},
   "source": [
    "# Preprocesamiento e Ingeniería de Atributos"
   ]
  },
  {
   "cell_type": "markdown",
   "metadata": {},
   "source": [
    "Utilizamos la libreria pandas. A mi modo de ver, una librería esencial.\n",
    "Pandas es una librería open source que aporta a Python unas estructuras de datos fáciles de usar y de alta performance, junto con un gran número de funciones esenciales para el análisis de datos. Con la ayuda de Pandas podemos trabajar con datos estructurados de una forma más rápida y expresiva.\n",
    "Le indicamos que no nos muestre los warnings..."
   ]
  },
  {
   "cell_type": "code",
   "execution_count": 2,
   "metadata": {
    "collapsed": true
   },
   "outputs": [],
   "source": [
    "pd.options.mode.chained_assignment = None  # Para que pandas no saque warnings relativos a versiones y demas historias"
   ]
  },
  {
   "cell_type": "markdown",
   "metadata": {},
   "source": [
    "Vamos a leer el archivo que tenemos..."
   ]
  },
  {
   "cell_type": "markdown",
   "metadata": {},
   "source": [
    "La lista de atributos es: Ordinal, Class, Survived (0=no, 1=yes), Name, Age, Port of Embarkation, Home/Destination, Room, Ticket, Boat, and Sex. \n",
    "Empecemos por cargar nuestro archivo a una estructura DataFrame de Pandas(herramienta para manejar estos atributos):"
   ]
  },
  {
   "cell_type": "code",
   "execution_count": 3,
   "metadata": {
    "collapsed": false,
    "scrolled": true
   },
   "outputs": [
    {
     "name": "stdout",
     "output_type": "stream",
     "text": [
      "['row.names' 'pclass' 'survived' 'name' 'age' 'embarked' 'home.dest' 'room'\n",
      " 'ticket' 'boat' 'sex']\n"
     ]
    }
   ],
   "source": [
    "titanic_dataset = pd.read_csv('./data/titanic.txt', sep=',')\n",
    "\n",
    "# La primera fila tiene los nombres de los atributos\n",
    "print titanic_dataset.columns.values"
   ]
  },
  {
   "cell_type": "markdown",
   "metadata": {},
   "source": [
    "Veamos cómo quedan las tuplas..."
   ]
  },
  {
   "cell_type": "code",
   "execution_count": 4,
   "metadata": {
    "collapsed": false
   },
   "outputs": [
    {
     "data": {
      "text/plain": [
       "row.names                                               9\n",
       "pclass                                                1st\n",
       "survived                                                1\n",
       "name         Appleton, Mrs Edward Dale (Charlotte Lamson)\n",
       "age                                                    58\n",
       "embarked                                      Southampton\n",
       "home.dest                             Bayside, Queens, NY\n",
       "room                                                C-101\n",
       "ticket                                                NaN\n",
       "boat                                                    2\n",
       "sex                                                female\n",
       "Name: 8, dtype: object"
      ]
     },
     "execution_count": 4,
     "metadata": {},
     "output_type": "execute_result"
    }
   ],
   "source": [
    "titanic_dataset.iloc[8]"
   ]
  },
  {
   "cell_type": "markdown",
   "metadata": {},
   "source": [
    "La primera tupla corresponde a Elisabeth Walton, de 29 años, que embarcó en Southampton, iba a St. Louis,estaba en el cuarto B-5, y tenía el ticket 24160 L221, en primera clase. Elisabeth sobrevivió.Estos datos los tenemos para todos los pasajeros. Aquí es donde tenemos que elegir las features que vamos a usar para aprender. En este caso, elegimos la clase, la edad, y el sexo. El destino no parece influenciar mucho, dónde embarcó tampoco... de acuerdo a nuestro conocimiento... aunque nada nos impide agregarlo luego como feature. El nombre no puede ir, ya que es imposible que sirva para generalizar. Por supuesto, no podemos usar para predecir la clase que estamos tratando de adivinar, así que la columna \"survived\" también desaparece."
   ]
  },
  {
   "cell_type": "markdown",
   "metadata": {},
   "source": [
    "Veamos la relación de personas que se salvarón y las que no pudo ser:"
   ]
  },
  {
   "cell_type": "code",
   "execution_count": 5,
   "metadata": {
    "collapsed": false
   },
   "outputs": [
    {
     "data": {
      "text/plain": [
       "0    0.658035\n",
       "1    0.341965\n",
       "Name: survived, dtype: float64"
      ]
     },
     "execution_count": 5,
     "metadata": {},
     "output_type": "execute_result"
    }
   ],
   "source": [
    "# En la columna 3 tenemos la clase que queremos predecir (es decir, si sobrevivió o no)\n",
    "# Vale 1 si sobrevivió, 0 si no. Miramos el porcentaje de cada grupo.\n",
    "titanic_dataset.survived.value_counts(normalize=True)"
   ]
  },
  {
   "cell_type": "code",
   "execution_count": 6,
   "metadata": {
    "collapsed": false
   },
   "outputs": [],
   "source": [
    "# Elegimos las columnas que tiene la clase, la edad, y el sexo\n",
    "titanic_X = titanic_dataset[['pclass','age','sex']]\n",
    "titanic_y = titanic_dataset[['survived']]"
   ]
  },
  {
   "cell_type": "markdown",
   "metadata": {},
   "source": [
    "Tenemos algunos problemas con la edad: en algunos casos no tiene valores:"
   ]
  },
  {
   "cell_type": "code",
   "execution_count": 7,
   "metadata": {
    "collapsed": false
   },
   "outputs": [
    {
     "name": "stdout",
     "output_type": "stream",
     "text": [
      "   pclass  age   sex\n",
      "14    1st  NaN  male\n"
     ]
    }
   ],
   "source": [
    "print titanic_X.iloc[[14]]"
   ]
  },
  {
   "cell_type": "markdown",
   "metadata": {},
   "source": [
    "Tenemos que hacer algo: elegimos poner el valor medio..."
   ]
  },
  {
   "cell_type": "code",
   "execution_count": 8,
   "metadata": {
    "collapsed": false
   },
   "outputs": [
    {
     "name": "stdout",
     "output_type": "stream",
     "text": [
      "31.1941810427\n"
     ]
    }
   ],
   "source": [
    "# Calculo la edad promedio\n",
    "edades = titanic_X.age\n",
    "edad_promedio = edades.mean()\n",
    "print edad_promedio"
   ]
  },
  {
   "cell_type": "markdown",
   "metadata": {},
   "source": [
    "Actualizo las valores nulos."
   ]
  },
  {
   "cell_type": "code",
   "execution_count": 9,
   "metadata": {
    "collapsed": false
   },
   "outputs": [
    {
     "name": "stdout",
     "output_type": "stream",
     "text": [
      "   pclass        age   sex\n",
      "14    1st  31.194181  male\n"
     ]
    }
   ],
   "source": [
    "# Actualizo\n",
    "titanic_X.fillna(edad_promedio, inplace=True)\n",
    "\n",
    "print titanic_X.iloc[[14]]"
   ]
  },
  {
   "cell_type": "markdown",
   "metadata": {},
   "source": [
    "Bien. Veamos ahora la clase y el sexo: el clasificador que vamos a usar espera atributos que son números reales y en este caso, los tenemos como categorías. Empecemos por sexo: solamente hay dos categorías, por lo que podemos decir (por ejemplo) que femenino es 0 y masculino es 1. scikit-learn nos provee de una clase LabelEncoder que hace esto...:"
   ]
  },
  {
   "cell_type": "code",
   "execution_count": 10,
   "metadata": {
    "collapsed": false
   },
   "outputs": [
    {
     "data": {
      "text/plain": [
       "array([['1st', 29.0, 'female'],\n",
       "       ['1st', 2.0, 'female'],\n",
       "       ['1st', 30.0, 'male'],\n",
       "       ..., \n",
       "       ['3rd', 31.19418104265403, 'male'],\n",
       "       ['3rd', 31.19418104265403, 'female'],\n",
       "       ['3rd', 31.19418104265403, 'male']], dtype=object)"
      ]
     },
     "execution_count": 10,
     "metadata": {},
     "output_type": "execute_result"
    }
   ],
   "source": [
    "titanic_X.values"
   ]
  },
  {
   "cell_type": "code",
   "execution_count": 11,
   "metadata": {
    "collapsed": false
   },
   "outputs": [
    {
     "name": "stdout",
     "output_type": "stream",
     "text": [
      "Categorical classes: ['female' 'male']\n",
      "Integer classes: [('female', 0), ('male', 1)]\n",
      "  pclass      age  sex\n",
      "0    1st  29.0000    0\n",
      "1    1st   2.0000    0\n",
      "2    1st  30.0000    1\n",
      "3    1st  25.0000    0\n",
      "4    1st   0.9167    1\n"
     ]
    }
   ],
   "source": [
    "from sklearn.preprocessing import LabelEncoder\n",
    "\n",
    "enc = LabelEncoder()\n",
    "# Le paso los valores que tengo y el asigna un entero a cada clase posible\n",
    "label_encoder = enc.fit(titanic_X.sex.values)\n",
    "print \"Categorical classes:\", label_encoder.classes_\n",
    "\n",
    "# Veamos como las transforma...\n",
    "integer_classes = label_encoder.transform(label_encoder.classes_)\n",
    "print \"Integer classes:\", zip(label_encoder.classes_,integer_classes)\n",
    "\n",
    "sex_encoder = label_encoder.transform(titanic_X.sex.values)\n",
    "titanic_X['sex'] = sex_encoder\n",
    "print titanic_X.head()"
   ]
  },
  {
   "cell_type": "markdown",
   "metadata": {},
   "source": [
    "Bien, nos resta la clase del pasajero. Tenemos primera, segunda y tercera. Para evitar un ordenamiento implícito (0<1<2), vamos a usar otra técnica, llamada \"One Hot Encoding\". Lo mejor es verlo con un ejemplo, pero la idea es convertir cada atributo en n, siendo n los valores posibles de ese atributo. Para este caso, generaremos los atributos: primera_clase, segunda_clase, y tercera_clase, valuados en 0/1."
   ]
  },
  {
   "cell_type": "code",
   "execution_count": 12,
   "metadata": {
    "collapsed": false
   },
   "outputs": [],
   "source": [
    "from sklearn.preprocessing import OneHotEncoder\n",
    "\n",
    "lencoder = LabelEncoder()\n",
    "label_encoder = lencoder.fit(titanic_X['pclass'])\n",
    "integer_classes = label_encoder.transform(label_encoder.classes_).reshape(3,1)\n",
    "enc = OneHotEncoder()\n",
    "one_hot_encoder=enc.fit(integer_classes)\n",
    "\n",
    "# First, convert clases to 0-(N-1) integers using label_encoder\n",
    "num_of_rows = titanic_X.shape[0]\n",
    "pclass_encoder = label_encoder.transform(titanic_X['pclass']).reshape(num_of_rows, 1)\n",
    "\n",
    "# Second, create a sparse matrix with three columns, each one indicating if the instance belongs to the class\n",
    "new_features = one_hot_encoder.transform(pclass_encoder)\n",
    "\n",
    "# Add the new features to titanix_X\n",
    "titanic_X['primera_clase'] = new_features.toarray()[:,0].tolist()\n",
    "titanic_X['segunda_clase'] = new_features.toarray()[:,1].tolist()\n",
    "titanic_X['tercera_clase'] = new_features.toarray()[:,2].tolist()\n",
    "\n",
    "# Eliminate converted columns\n",
    "del titanic_X['pclass']"
   ]
  },
  {
   "cell_type": "code",
   "execution_count": 13,
   "metadata": {
    "collapsed": false
   },
   "outputs": [
    {
     "name": "stdout",
     "output_type": "stream",
     "text": [
      "Values:\n",
      "          age  sex  primera_clase  segunda_clase  tercera_clase\n",
      "14  31.194181    1            1.0            0.0            0.0\n",
      "Objetivo:\n",
      "    survived\n",
      "14         0\n"
     ]
    }
   ],
   "source": [
    "feature_names = titanic_X.columns.values\n",
    "\n",
    "print 'Values:\\n',titanic_X.loc[[14]]\n",
    "print 'Objetivo:\\n', titanic_y.loc[[14]]"
   ]
  },
  {
   "cell_type": "markdown",
   "metadata": {},
   "source": [
    "Mostramos las 5 primeras filas..."
   ]
  },
  {
   "cell_type": "code",
   "execution_count": 14,
   "metadata": {
    "collapsed": false
   },
   "outputs": [
    {
     "name": "stdout",
     "output_type": "stream",
     "text": [
      "       age  sex  primera_clase  segunda_clase  tercera_clase\n",
      "0  29.0000    0            1.0            0.0            0.0\n",
      "1   2.0000    0            1.0            0.0            0.0\n",
      "2  30.0000    1            1.0            0.0            0.0\n",
      "3  25.0000    0            1.0            0.0            0.0\n",
      "4   0.9167    1            1.0            0.0            0.0\n"
     ]
    }
   ],
   "source": [
    "print titanic_X.head()"
   ]
  },
  {
   "cell_type": "markdown",
   "metadata": {},
   "source": [
    "Vamos a analizar los datos ... sería interesante saber si analizar edad, la clase y el sexo nos aporta algo de información. Para ello utilizamos un diagrama de cajas."
   ]
  },
  {
   "cell_type": "markdown",
   "metadata": {},
   "source": [
    "Los diagramas de cajas son una presentación visual que describe varias características importantes al mismo tiempo, tales como la dispersión y simetría. Para su realización se representan los tres cuartiles y los valores mínimo y máximo de los datos, sobre un rectángulo, alineado horizontal o verticalmente. Estos gráficos nos proporcionan abundante información y son sumamente útiles para encontrar valores atípicos y comparar dos conjunto de datos."
   ]
  },
  {
   "cell_type": "markdown",
   "metadata": {},
   "source": [
    "Miramos si la edad de los que sobrevivian es una caracteristica relevante..."
   ]
  },
  {
   "cell_type": "code",
   "execution_count": 15,
   "metadata": {
    "collapsed": false
   },
   "outputs": [
    {
     "data": {
      "text/plain": [
       "<matplotlib.axes._subplots.AxesSubplot at 0xb102860>"
      ]
     },
     "execution_count": 15,
     "metadata": {},
     "output_type": "execute_result"
    },
    {
     "data": {
      "image/png": "[encoded data removed]",
      "text/plain": [
       "<matplotlib.figure.Figure at 0x2705518>"
      ]
     },
     "metadata": {},
     "output_type": "display_data"
    }
   ],
   "source": [
    "sns.boxplot(y=titanic_dataset['age'], x=titanic_dataset['survived'])"
   ]
  },
  {
   "cell_type": "code",
   "execution_count": 16,
   "metadata": {
    "collapsed": false
   },
   "outputs": [
    {
     "data": {
      "text/plain": [
       "<matplotlib.axes._subplots.AxesSubplot at 0xb19a898>"
      ]
     },
     "execution_count": 16,
     "metadata": {},
     "output_type": "execute_result"
    },
    {
     "data": {
      "image/png": "[encoded data removed]",
      "text/plain": [
       "<matplotlib.figure.Figure at 0xb37d198>"
      ]
     },
     "metadata": {},
     "output_type": "display_data"
    }
   ],
   "source": [
    "titanic_dataset['age'][(titanic_dataset['survived']==0)].hist()\n",
    "titanic_dataset['age'][(titanic_dataset['survived']==1)].hist(ls='dashed', lw=0.5, alpha=0.5)"
   ]
  },
  {
   "cell_type": "markdown",
   "metadata": {},
   "source": [
    "Ya tenemos el dataset, ahora comienza el proceso de aprendizaje. \n",
    "Vamos primero separar el dataset en dos: un conjunto de entrenamiento y otro de testeo. Trabajaremos siempre sobre el de entrenamiento, y dejamos el de testeo para evaluar nuestros resultados. Lo dividimos en 75/25:"
   ]
  },
  {
   "cell_type": "code",
   "execution_count": 17,
   "metadata": {
    "collapsed": false
   },
   "outputs": [
    {
     "name": "stderr",
     "output_type": "stream",
     "text": [
      "D:\\Users\\106298\\AppData\\Local\\Continuum\\Anaconda2\\lib\\site-packages\\sklearn\\cross_validation.py:44: DeprecationWarning: This module was deprecated in version 0.18 in favor of the model_selection module into which all the refactored classes and functions are moved. Also note that the interface of the new CV iterators are different from that of this module. This module will be removed in 0.20.\n",
      "  \"This module will be removed in 0.20.\", DeprecationWarning)\n"
     ]
    }
   ],
   "source": [
    "from sklearn.cross_validation import train_test_split\n",
    "X_train, X_test, y_train, y_test = train_test_split(titanic_X, titanic_y, test_size=0.25, random_state=33)"
   ]
  },
  {
   "cell_type": "markdown",
   "metadata": {},
   "source": [
    "# Arboles de decisión"
   ]
  },
  {
   "cell_type": "markdown",
   "metadata": {},
   "source": [
    "Vamos a crear a partir de los datos de entrenamiento, un árbol de decision. Esto en scikit-learn es estándar... y fácil, una vez que tenemos los datos en el formato pedido: basta crear el clasificador y usarlo para generar el modelo:"
   ]
  },
  {
   "cell_type": "code",
   "execution_count": 18,
   "metadata": {
    "collapsed": true
   },
   "outputs": [],
   "source": [
    "from sklearn import tree\n",
    "clf = tree.DecisionTreeClassifier(criterion='entropy', max_depth=3,min_samples_leaf=5)\n",
    "clf = clf.fit(X_train,y_train)"
   ]
  },
  {
   "cell_type": "markdown",
   "metadata": {},
   "source": [
    "A partir de los datos de entrenamiento, nuestro arbol de decisión muestra un conjunto de decisiones.Para clasificar una istania, en cada nodo debemos responder a una pregunta. Por ejemplo, en el nodo principal, la pregunta es : es sex>=0.5? (es decir, hablamos de una mujer?). Si la respuesta es sí, nos desviamos hacia la rama de la izquierda; en caso contrario, nos desviamos a la rama derecha. Y continuamos respondiendo preguntas (estaba ela en 3ª clase? estaba ella en 1ª clase? era menor de 13 años?) y asi hasta llegar a una hoja. Al llegar a una hoja, se le asigna una predicción. \n",
    "Dibujamos el arbol utilizando pyplot:"
   ]
  },
  {
   "cell_type": "code",
   "execution_count": 19,
   "metadata": {
    "collapsed": false
   },
   "outputs": [
    {
     "data": {
      "image/png": "[encoded data removed]",
      "text/plain": [
       "<IPython.core.display.Image object>"
      ]
     },
     "execution_count": 19,
     "metadata": {},
     "output_type": "execute_result"
    }
   ],
   "source": [
    "from sklearn.externals.six import StringIO\n",
    "import pydotplus\n",
    "from IPython.display import Image  \n",
    "\n",
    "dot_data=StringIO()\n",
    "tree.export_graphviz(clf, out_file=dot_data, feature_names=feature_names)\n",
    "graph = pydotplus.graph_from_dot_data(dot_data.getvalue())\n",
    "Image(graph.create_png()) "
   ]
  },
  {
   "cell_type": "markdown",
   "metadata": {},
   "source": [
    "Veamos cómo funciona nuestro modelo.\n",
    "¿Cúal es la probabilidad de sobrevivir en función del sexo y clase?"
   ]
  },
  {
   "cell_type": "code",
   "execution_count": 20,
   "metadata": {
    "collapsed": false
   },
   "outputs": [
    {
     "data": {
      "text/plain": [
       "<seaborn.axisgrid.FacetGrid at 0xd017eb8>"
      ]
     },
     "execution_count": 20,
     "metadata": {},
     "output_type": "execute_result"
    },
    {
     "data": {
      "image/png": "[encoded data removed]",
      "text/plain": [
       "<matplotlib.figure.Figure at 0xd017e48>"
      ]
     },
     "metadata": {},
     "output_type": "display_data"
    }
   ],
   "source": [
    "sns.factorplot(\"pclass\", \"survived\", \"sex\", data=titanic_dataset, kind=\"bar\", size=6, palette=\"muted\", legend=True)"
   ]
  },
  {
   "cell_type": "markdown",
   "metadata": {},
   "source": [
    "Supongamos que había un hombre de 20 años en tercera clase (a.k.a. Leonardo di Caprio)... ¿se hubiera salvado?"
   ]
  },
  {
   "cell_type": "code",
   "execution_count": 21,
   "metadata": {
    "collapsed": false
   },
   "outputs": [
    {
     "name": "stdout",
     "output_type": "stream",
     "text": [
      "[0]\n"
     ]
    }
   ],
   "source": [
    "print clf.predict([[20.0,1.0,0.0,0.0,1.0]])"
   ]
  },
  {
   "cell_type": "markdown",
   "metadata": {},
   "source": [
    "Upps, Nop. Podemos verificarlo siguiendo el árbol... \n",
    "\n",
    "Pero, ¿cómo sabemos cómo de bueno es nuestro clasificador? Empecemos por evaluarlo sobre los propios datos de entrenamiento, y viendo en cuántos casos acierta (esta medida se llama accuracy)... y algunas medidas más."
   ]
  },
  {
   "cell_type": "code",
   "execution_count": 22,
   "metadata": {
    "collapsed": false
   },
   "outputs": [
    {
     "name": "stdout",
     "output_type": "stream",
     "text": [
      "Accuracy:0.838 \n",
      "\n",
      "Classification report\n",
      "             precision    recall  f1-score   support\n",
      "\n",
      "          0       0.82      0.98      0.89       662\n",
      "          1       0.93      0.55      0.69       322\n",
      "\n",
      "avg / total       0.85      0.84      0.82       984\n",
      "\n",
      "\n",
      "Confusion matrix\n",
      "[[649  13]\n",
      " [146 176]] \n",
      "\n"
     ]
    }
   ],
   "source": [
    "from sklearn import metrics\n",
    "def measure_performance(X,y,clf, show_accuracy=True, show_classification_report=True, show_confusion_matrix=True):\n",
    "    y_pred=clf.predict(X)   \n",
    "    if show_accuracy:\n",
    "        print \"Accuracy:{0:.3f}\".format(metrics.accuracy_score(y,y_pred)),\"\\n\"\n",
    "\n",
    "    if show_classification_report:\n",
    "        print \"Classification report\"\n",
    "        print metrics.classification_report(y,y_pred),\"\\n\"\n",
    "        \n",
    "    if show_confusion_matrix:\n",
    "        print \"Confusion matrix\"\n",
    "        print metrics.confusion_matrix(y,y_pred),\"\\n\"\n",
    "        \n",
    "measure_performance(X_train,y_train,clf, show_classification_report=True, show_confusion_matrix=True)"
   ]
  },
  {
   "cell_type": "markdown",
   "metadata": {},
   "source": [
    "El problema así enfocado tiene su riesgo, y es que estamos evaluando sobre los mismos datos que utilizamos para crear el modelo! Esto siempre es una mala idea... para eso guardamos nuestro dataset de evaluación... evaluemos cómo se comporta nuestro modelo sobre este dataset: "
   ]
  },
  {
   "cell_type": "code",
   "execution_count": 23,
   "metadata": {
    "collapsed": false
   },
   "outputs": [
    {
     "name": "stdout",
     "output_type": "stream",
     "text": [
      "Accuracy:0.793 \n",
      "\n",
      "Classification report\n",
      "             precision    recall  f1-score   support\n",
      "\n",
      "          0       0.77      0.96      0.85       202\n",
      "          1       0.88      0.54      0.67       127\n",
      "\n",
      "avg / total       0.81      0.79      0.78       329\n",
      "\n",
      "\n",
      "Confusion matrix\n",
      "[[193   9]\n",
      " [ 59  68]] \n",
      "\n"
     ]
    }
   ],
   "source": [
    "measure_performance(X_test,y_test, clf, show_classification_report=True, show_confusion_matrix=True)"
   ]
  }
 ],
 "metadata": {
  "anaconda-cloud": {},
  "kernelspec": {
   "display_name": "Python [Root]",
   "language": "python",
   "name": "Python [Root]"
  },
  "language_info": {
   "codemirror_mode": {
    "name": "ipython",
    "version": 2
   },
   "file_extension": ".py",
   "mimetype": "text/x-python",
   "name": "python",
   "nbconvert_exporter": "python",
   "pygments_lexer": "ipython2",
   "version": "2.7.10"
  }
 },
 "nbformat": 4,
 "nbformat_minor": 0
}
